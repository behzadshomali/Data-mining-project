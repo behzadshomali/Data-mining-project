{
 "cells": [
  {
   "cell_type": "code",
   "execution_count": 5,
   "metadata": {
    "executionInfo": {
     "elapsed": 2950,
     "status": "ok",
     "timestamp": 1656774472385,
     "user": {
      "displayName": "MohammadMohammadZadeh 2015",
      "userId": "02165635509077478933"
     },
     "user_tz": -270
    },
    "id": "_exZj-Q464H4"
   },
   "outputs": [],
   "source": [
    "import numpy as np\n",
    "import pandas as pd\n",
    "import nltk\n",
    "import re\n",
    "import matplotlib.pyplot as plt\n",
    "import scipy.stats as stats\n",
    "import math\n",
    "from collections import Counter"
   ]
  },
  {
   "cell_type": "code",
   "execution_count": 6,
   "metadata": {
    "colab": {
     "base_uri": "https://localhost:8080/"
    },
    "executionInfo": {
     "elapsed": 3413,
     "status": "ok",
     "timestamp": 1656774478392,
     "user": {
      "displayName": "MohammadMohammadZadeh 2015",
      "userId": "02165635509077478933"
     },
     "user_tz": -270
    },
    "id": "XQkzqqUlpWhK",
    "outputId": "b2139693-072b-483f-c6f1-7448a2ea5d9f"
   },
   "outputs": [
    {
     "data": {
      "text/plain": [
       "True"
      ]
     },
     "execution_count": 6,
     "metadata": {},
     "output_type": "execute_result"
    }
   ],
   "source": [
    "nltk.download('stopwords', quiet=True)\n",
    "nltk.download('wordnet', quiet=True)\n",
    "nltk.download('omw-1.4', quiet=True)"
   ]
  },
  {
   "cell_type": "code",
   "execution_count": 19,
   "metadata": {
    "executionInfo": {
     "elapsed": 4,
     "status": "ok",
     "timestamp": 1656774517910,
     "user": {
      "displayName": "MohammadMohammadZadeh 2015",
      "userId": "02165635509077478933"
     },
     "user_tz": -270
    },
    "id": "B_-Haah3ZnEu"
   },
   "outputs": [],
   "source": [
    "preprocessed_objectives = pd.read_csv(\"../Phase2_preprocessing_featureExtraction/preprocessed_data/preprocessed_objectives.csv\")\n",
    "preprocessed_descriptions = pd.read_csv(\"../Phase2_preprocessing_featureExtraction/preprocessed_data/preprocessed_descriptions.csv\")\n",
    "preprocessed_outcomes = pd.read_csv(\"../Phase2_preprocessing_featureExtraction/preprocessed_data/preprocessed_outcomes.csv\")"
   ]
  },
  {
   "cell_type": "markdown",
   "metadata": {
    "id": "ioUyZlIVbLY4"
   },
   "source": [
    "## Embedding"
   ]
  },
  {
   "cell_type": "code",
   "execution_count": 21,
   "metadata": {
    "executionInfo": {
     "elapsed": 7569,
     "status": "ok",
     "timestamp": 1656774549984,
     "user": {
      "displayName": "MohammadMohammadZadeh 2015",
      "userId": "02165635509077478933"
     },
     "user_tz": -270
    },
    "id": "pLjSbEZixOEA"
   },
   "outputs": [],
   "source": [
    "pip -q install sentence-transformers"
   ]
  },
  {
   "cell_type": "code",
   "execution_count": 22,
   "metadata": {
    "colab": {
     "base_uri": "https://localhost:8080/",
     "height": 401,
     "referenced_widgets": [
      "85bb9204fa29489ab12a94925da0adeb",
      "d5eda15070ea4da392437e31d1e152f3",
      "ab17d8c1218b4551bd76861b9cfa3a3c",
      "1bad6b1ba48149c0b1242231c240a695",
      "5cdb5dd504b44ec6bb8cfd039d918f3a",
      "a88b827e88ab4398b70fa4a70542e55e",
      "3821dcc9e62444b58e119c3812035e58",
      "ec13d8622c404e83928e89a054188a28",
      "7bc1e2859ac7497cb2cbae19385493e9",
      "73b96b97772e4d74aa10f21fcb799391",
      "1eeda01ad6b549789d02fe8414584a0a",
      "8d2c788b1a2c47fe8de1869fc6042e7e",
      "04c78795ffd540b485b257ef1fd98d84",
      "bd653b5d6c634446ba7857299c816c5b",
      "093979967c0940dcb2ff3b250b8407ea",
      "495448d55e7d45bbb0bac0f72f0516a6",
      "010d7c1346fb492399763c8d98186ede",
      "73d08f37bda04b6e960262f6f7b5ade3",
      "740329ca72eb44aba81252e2e3dffca9",
      "68c3cd193eda45bda15d501497d71353",
      "c0dee6ab51014b3c831ab1c786f3c9fc",
      "7c29ca94036e4a508847c1ed70fa5d03",
      "516a8a9d7d7b467782682f938af07de0",
      "61671aaf85de4411abf71c294f585a8f",
      "1359e3e24c5548449adc1ac09c233f58",
      "ee027439786a42b8b64ad7c066c75bda",
      "c95419d68d674b3ca6df3fa28bd9f77a",
      "f5780a74bb3140d2b03ef854622267e1",
      "c6f97651bd0a4dbd8041579cf43da439",
      "96f00533e0654fdabe1cd9ca062c8d8c",
      "da03d9f4ce154232ba29ded755c4d897",
      "0972e4f0ea3b4997b544715ce901c587",
      "eb617d2e25994f5fb94e9e87451cd180",
      "cdc2a8f7bc144bddae9b8f80babe026a",
      "920c70794f944a28b1924291933db413",
      "47695543daae4ab481a5e9d9a5f76b42",
      "fda7482ef73c4c7cbc7ab4d921b83894",
      "e4f0e092a01f4756b2b533eb3e161e83",
      "d934e532f8b14d91bb0ca1bf8aadb81e",
      "5a6696a6d67d40548c6548993ac6d725",
      "0cebe842308e44819bde78c2d5e748b5",
      "279fb4004a7d4442923b63b1a489c3fb",
      "8a8c8f92420441ff9a1a7c49ab167869",
      "0f521bffbd414fd7a2e628987f7190a1",
      "835574da08c643098e45ff2c30b33e96",
      "cb4298289777472193a6eddec9702114",
      "db1898ab3e41470ca22f32de6ef42869",
      "8d3aa0b7a0a845e7b89aea2f9f8106b4",
      "97ce1cef531849c0af3f13579d574bb9",
      "b328947dec2c40cd82e2d11cce651e84",
      "b62dc6d53c314ec18d43b144a326faa1",
      "1cd38f7aedb44300bafe436c59b9a8bd",
      "b8aa13a20f534e6b9a0ed6a9158760ab",
      "15a75b1560da4f1e8ec1b22c92b47c28",
      "b7e82853ef674c3d81b63865a810ff2b",
      "535018ec5e874ae5b1166d83801b9c7e",
      "44fcdec5a44b429a99cd747c8ff77d0e",
      "1610c9581a4a44c7aab7fe3245b9841d",
      "0bddab4f97e14d17b1d9ab8b6c8ea0b7",
      "2ca914c08a2f4795a55d5454613388b4",
      "1ced4ed1341d410da0835e8a699c3617",
      "859fb31afbeb46b69f9be25880509785",
      "2692f40431b3498383336cb765e1bc47",
      "6d047276b107421296e68ee202591f2e",
      "893e4ec828cd49a28cf50686b58ed959",
      "9212576967fb4b4584e8f10071ab8307",
      "046778d3fecd404e8d06539b9bcb4f95",
      "5b9ef34408984a26b3ae63381570352b",
      "77b346308dac42f89a89b8fd526d1bcf",
      "83da746f4f84447ca6a73bf0ac285323",
      "468babd377b64dca9ef113d53fabf6ec",
      "db04afe11cbf47e7af8f0dee6a55d6fa",
      "94d8dabdf93e4cdbaa48a75977224f12",
      "0c0f3f63737c44e9bfa1dc7eeabc2f62",
      "75a3ccac2a0547699bfb5d8319a12a9a",
      "288abe669b284588b7e6c169c34b51ca",
      "4f4dfb3044eb44bf8b65660f9dc1c270",
      "34367d757b7a4979b5418808e47c9eaf",
      "eadcc53ab0e2440883f25f9f85540f4e",
      "74ba7f43a63e459fafbcc2d1a52785c6",
      "9e5a1dbefa16483cb0105517d0f7a893",
      "be3e1529bedc438a8f4eba5a361d843b",
      "48f9ad4943be4830b57fda806967c329",
      "724142961f14409fb00a90c212f191b3",
      "3557b83d935c4861980d2a103e3dfca2",
      "6792c15e8d9146a19ec03b9f8272f14b",
      "63bbbc1632fd4ebda486f1bd6c35f755",
      "5127f18128f747cebac0638db5fb10f8",
      "85fa6fe016954e9ea2d5692fb1a2b1e3",
      "1d52003493a64fd39236a4daca4c5113",
      "cfa533d622d046e186815c3ea6f61ae9",
      "586bab9e85a04498a175bbc7ce8fae81",
      "0da287d5c2e343caa85870e6081a1850",
      "003bf6be527a4a5993dac133e8beaa23",
      "1bce587ec256409da04211433e9dd3c1",
      "fe3c2db8df59401aa94b3c3d4b8d776d",
      "fcd4d5dfeda74a25857f2d95122cb2da",
      "630d1236a6cb43139623a598c82059cd",
      "e79760df3092435188b02b2e7d1bbb53",
      "13edfe90ae2d43bdb62830000de4f138",
      "42f6e0c0a6574ca483f8298ac9fa85a3",
      "fa65e7cba649497a8d4d70a2e3814e74",
      "8db5ef6ba38348a0bcbffb55a286460e",
      "89df279064954b8895721fd7964f9a15",
      "689559e96d9d4ada94c6fba7f7dfa5f0",
      "09437aee9cbb4176b644c48a84762623",
      "64b9749bc2d84df8ad5cd734e0c6d2b2",
      "e7330072b2344b999b82c9b29cd08bc5",
      "fb5b59d8c2d54af6bb686ba07619c867",
      "b2abdc4b07324e73a9a0c6c760242ab6",
      "1b92abf0712046838e6c926798bcd498",
      "88a6f0d53527498ea50cdada043ce5f9",
      "69f1284fb1bb4a0ca5b2773da4153e00",
      "5a9efc2bea7447aebb71f745ed08055b",
      "8d8f5bb51ef0459986ca4ab6b9c767c6",
      "07d2e98777b94f85889dd0c7c3923e51",
      "dc7660ab37644e50b2b6bbf15a37ea9b",
      "c2c121ca582445dca8dc5d52d6fedd23",
      "bc08d7ae8a8b4f0faa776fa4f080d397",
      "334f6d85e9d4449cbb586a4515e4ac0e",
      "155594088efc476194539dde3f0ae9bd",
      "3f344d419f2243dea49d8f5484cc8aaf",
      "6bf0b5b25466480bac00ab79f26e5daa",
      "7406550455e14211901f453c59b075db",
      "c18fc00a093445cc9b5c8664a434d736",
      "2c969d5280d3409c80724a6f116877b4",
      "7bf909eba7664abba0d8dbc5063d35f8",
      "557badff255d4e46af4f8046af787827",
      "fa6b8a4bc3074f0bad85cbe67fb9ab64",
      "d3ef6cbd9fd749a78ef9a35a0ed1c24f",
      "757819bdf0c1423daf255a81f15355c6",
      "260ae4b8e4de405492d93f2f4111cba4"
     ]
    },
    "collapsed": true,
    "executionInfo": {
     "elapsed": 14058,
     "status": "ok",
     "timestamp": 1656774564025,
     "user": {
      "displayName": "MohammadMohammadZadeh 2015",
      "userId": "02165635509077478933"
     },
     "user_tz": -270
    },
    "id": "iTrFa9sCMKeO",
    "outputId": "e8b9a880-a948-4375-c582-0444ade053f0"
   },
   "outputs": [
    {
     "data": {
      "application/vnd.jupyter.widget-view+json": {
       "model_id": "85bb9204fa29489ab12a94925da0adeb",
       "version_major": 2,
       "version_minor": 0
      },
      "text/plain": [
       "Downloading:   0%|          | 0.00/690 [00:00<?, ?B/s]"
      ]
     },
     "metadata": {},
     "output_type": "display_data"
    },
    {
     "data": {
      "application/vnd.jupyter.widget-view+json": {
       "model_id": "8d2c788b1a2c47fe8de1869fc6042e7e",
       "version_major": 2,
       "version_minor": 0
      },
      "text/plain": [
       "Downloading:   0%|          | 0.00/190 [00:00<?, ?B/s]"
      ]
     },
     "metadata": {},
     "output_type": "display_data"
    },
    {
     "data": {
      "application/vnd.jupyter.widget-view+json": {
       "model_id": "516a8a9d7d7b467782682f938af07de0",
       "version_major": 2,
       "version_minor": 0
      },
      "text/plain": [
       "Downloading:   0%|          | 0.00/3.69k [00:00<?, ?B/s]"
      ]
     },
     "metadata": {},
     "output_type": "display_data"
    },
    {
     "data": {
      "application/vnd.jupyter.widget-view+json": {
       "model_id": "cdc2a8f7bc144bddae9b8f80babe026a",
       "version_major": 2,
       "version_minor": 0
      },
      "text/plain": [
       "Downloading:   0%|          | 0.00/629 [00:00<?, ?B/s]"
      ]
     },
     "metadata": {},
     "output_type": "display_data"
    },
    {
     "data": {
      "application/vnd.jupyter.widget-view+json": {
       "model_id": "835574da08c643098e45ff2c30b33e96",
       "version_major": 2,
       "version_minor": 0
      },
      "text/plain": [
       "Downloading:   0%|          | 0.00/122 [00:00<?, ?B/s]"
      ]
     },
     "metadata": {},
     "output_type": "display_data"
    },
    {
     "data": {
      "application/vnd.jupyter.widget-view+json": {
       "model_id": "535018ec5e874ae5b1166d83801b9c7e",
       "version_major": 2,
       "version_minor": 0
      },
      "text/plain": [
       "Downloading:   0%|          | 0.00/90.9M [00:00<?, ?B/s]"
      ]
     },
     "metadata": {},
     "output_type": "display_data"
    },
    {
     "data": {
      "application/vnd.jupyter.widget-view+json": {
       "model_id": "046778d3fecd404e8d06539b9bcb4f95",
       "version_major": 2,
       "version_minor": 0
      },
      "text/plain": [
       "Downloading:   0%|          | 0.00/53.0 [00:00<?, ?B/s]"
      ]
     },
     "metadata": {},
     "output_type": "display_data"
    },
    {
     "data": {
      "application/vnd.jupyter.widget-view+json": {
       "model_id": "34367d757b7a4979b5418808e47c9eaf",
       "version_major": 2,
       "version_minor": 0
      },
      "text/plain": [
       "Downloading:   0%|          | 0.00/112 [00:00<?, ?B/s]"
      ]
     },
     "metadata": {},
     "output_type": "display_data"
    },
    {
     "data": {
      "application/vnd.jupyter.widget-view+json": {
       "model_id": "85fa6fe016954e9ea2d5692fb1a2b1e3",
       "version_major": 2,
       "version_minor": 0
      },
      "text/plain": [
       "Downloading:   0%|          | 0.00/466k [00:00<?, ?B/s]"
      ]
     },
     "metadata": {},
     "output_type": "display_data"
    },
    {
     "data": {
      "application/vnd.jupyter.widget-view+json": {
       "model_id": "13edfe90ae2d43bdb62830000de4f138",
       "version_major": 2,
       "version_minor": 0
      },
      "text/plain": [
       "Downloading:   0%|          | 0.00/314 [00:00<?, ?B/s]"
      ]
     },
     "metadata": {},
     "output_type": "display_data"
    },
    {
     "data": {
      "application/vnd.jupyter.widget-view+json": {
       "model_id": "1b92abf0712046838e6c926798bcd498",
       "version_major": 2,
       "version_minor": 0
      },
      "text/plain": [
       "Downloading:   0%|          | 0.00/232k [00:00<?, ?B/s]"
      ]
     },
     "metadata": {},
     "output_type": "display_data"
    },
    {
     "data": {
      "application/vnd.jupyter.widget-view+json": {
       "model_id": "3f344d419f2243dea49d8f5484cc8aaf",
       "version_major": 2,
       "version_minor": 0
      },
      "text/plain": [
       "Downloading:   0%|          | 0.00/229 [00:00<?, ?B/s]"
      ]
     },
     "metadata": {},
     "output_type": "display_data"
    }
   ],
   "source": [
    "from sentence_transformers import SentenceTransformer\n",
    "\n",
    "model = SentenceTransformer('paraphrase-MiniLM-L6-v2')"
   ]
  },
  {
   "cell_type": "code",
   "execution_count": 23,
   "metadata": {
    "colab": {
     "base_uri": "https://localhost:8080/"
    },
    "executionInfo": {
     "elapsed": 32,
     "status": "ok",
     "timestamp": 1656774564027,
     "user": {
      "displayName": "MohammadMohammadZadeh 2015",
      "userId": "02165635509077478933"
     },
     "user_tz": -270
    },
    "id": "-coifqnr3iTG",
    "outputId": "97c9e411-f323-4d42-9249-71c4dec1288c"
   },
   "outputs": [
    {
     "data": {
      "text/plain": [
       "SentenceTransformer(\n",
       "  (0): Transformer({'max_seq_length': 128, 'do_lower_case': False}) with Transformer model: BertModel \n",
       "  (1): Pooling({'word_embedding_dimension': 384, 'pooling_mode_cls_token': False, 'pooling_mode_mean_tokens': True, 'pooling_mode_max_tokens': False, 'pooling_mode_mean_sqrt_len_tokens': False})\n",
       ")"
      ]
     },
     "execution_count": 23,
     "metadata": {},
     "output_type": "execute_result"
    }
   ],
   "source": [
    "model"
   ]
  },
  {
   "cell_type": "code",
   "execution_count": 24,
   "metadata": {
    "colab": {
     "base_uri": "https://localhost:8080/"
    },
    "executionInfo": {
     "elapsed": 26,
     "status": "ok",
     "timestamp": 1656774564029,
     "user": {
      "displayName": "MohammadMohammadZadeh 2015",
      "userId": "02165635509077478933"
     },
     "user_tz": -270
    },
    "id": "3wk81rVhTX3f",
    "outputId": "9d348794-bf53-402d-ba77-5c5f9a2d9929"
   },
   "outputs": [
    {
     "data": {
      "text/plain": [
       "3994"
      ]
     },
     "execution_count": 24,
     "metadata": {},
     "output_type": "execute_result"
    }
   ],
   "source": [
    "cleaned_texts = [None]*len(df)\n",
    "\n",
    "for i in range(len(df)):\n",
    "    if preprocessed_objectives[i] is not None:\n",
    "        cleaned_texts[i] = preprocessed_objectives[i]\n",
    "    elif preprocessed_outcomes[i] is not None:\n",
    "        cleaned_texts[i] = preprocessed_outcomes[i]\n",
    "len(cleaned_texts)"
   ]
  },
  {
   "cell_type": "code",
   "execution_count": 25,
   "metadata": {
    "executionInfo": {
     "elapsed": 191052,
     "status": "ok",
     "timestamp": 1656774755064,
     "user": {
      "displayName": "MohammadMohammadZadeh 2015",
      "userId": "02165635509077478933"
     },
     "user_tz": -270
    },
    "id": "PH1H7HbaMVIO"
   },
   "outputs": [],
   "source": [
    "embeddings = model.encode(cleaned_texts, normalize_embeddings=True)"
   ]
  },
  {
   "cell_type": "code",
   "execution_count": 26,
   "metadata": {
    "colab": {
     "base_uri": "https://localhost:8080/"
    },
    "executionInfo": {
     "elapsed": 26,
     "status": "ok",
     "timestamp": 1656774755066,
     "user": {
      "displayName": "MohammadMohammadZadeh 2015",
      "userId": "02165635509077478933"
     },
     "user_tz": -270
    },
    "id": "FiyxEBwG3xWr",
    "outputId": "0e751ccd-08c1-4a97-8f3f-1fb3cee8641a"
   },
   "outputs": [
    {
     "data": {
      "text/plain": [
       "(3994, 384)"
      ]
     },
     "execution_count": 26,
     "metadata": {},
     "output_type": "execute_result"
    }
   ],
   "source": [
    "embeddings.shape"
   ]
  },
  {
   "cell_type": "code",
   "execution_count": 27,
   "metadata": {
    "colab": {
     "base_uri": "https://localhost:8080/"
    },
    "executionInfo": {
     "elapsed": 14250,
     "status": "ok",
     "timestamp": 1656774794466,
     "user": {
      "displayName": "MohammadMohammadZadeh 2015",
      "userId": "02165635509077478933"
     },
     "user_tz": -270
    },
    "id": "Wn-xnVfYMihn",
    "outputId": "c9a4eb71-bcd7-4631-c2a6-74823f6b3963"
   },
   "outputs": [
    {
     "name": "stdout",
     "output_type": "stream",
     "text": [
      "Computed similarity of 0/3994 embeddings!\n",
      "Computed similarity of 750/3994 embeddings!\n",
      "Computed similarity of 1500/3994 embeddings!\n",
      "Computed similarity of 2250/3994 embeddings!\n",
      "Computed similarity of 3000/3994 embeddings!\n",
      "Computed similarity of 3750/3994 embeddings!\n",
      "Computed similarity of 3994/3994 embeddings!\n"
     ]
    }
   ],
   "source": [
    "# Calculate cosine similarity to check the quality of embeddings\n",
    "from sentence_transformers.util import cos_sim\n",
    "\n",
    "texts_vectors = np.zeros((len(cleaned_texts), len(cleaned_texts)))\n",
    "for i in range(len(cleaned_texts)):\n",
    "    if i % 750 == 0:\n",
    "        print(f'Computed similarity of {i}/{len(cleaned_texts)} embeddings!')\n",
    "    texts_vectors[i:,i] = cos_sim(embeddings[i], embeddings[i:])\n",
    "print(f'Computed similarity of {len(cleaned_texts)}/{len(cleaned_texts)} embeddings!')"
   ]
  },
  {
   "cell_type": "code",
   "execution_count": 28,
   "metadata": {
    "colab": {
     "base_uri": "https://localhost:8080/"
    },
    "executionInfo": {
     "elapsed": 434,
     "status": "ok",
     "timestamp": 1656774856094,
     "user": {
      "displayName": "MohammadMohammadZadeh 2015",
      "userId": "02165635509077478933"
     },
     "user_tz": -270
    },
    "id": "AnieNJ337DcR",
    "outputId": "aebcf8d9-5acf-4d48-a501-e14a0a49ca26"
   },
   "outputs": [
    {
     "data": {
      "text/plain": [
       "array([[0.99999994, 0.        , 0.        , ..., 0.        , 0.        ,\n",
       "        0.        ],\n",
       "       [1.00000012, 1.00000012, 0.        , ..., 0.        , 0.        ,\n",
       "        0.        ],\n",
       "       [1.00000012, 1.00000024, 1.00000012, ..., 0.        , 0.        ,\n",
       "        0.        ],\n",
       "       [1.00000012, 1.00000024, 1.00000012, ..., 0.        , 0.        ,\n",
       "        0.        ],\n",
       "       [1.00000012, 1.00000024, 1.00000012, ..., 0.        , 0.        ,\n",
       "        0.        ]])"
      ]
     },
     "execution_count": 28,
     "metadata": {},
     "output_type": "execute_result"
    }
   ],
   "source": [
    "texts_vectors[:5]"
   ]
  },
  {
   "cell_type": "markdown",
   "metadata": {
    "id": "ptdIvge5bXNJ"
   },
   "source": [
    "## **Clustering**"
   ]
  },
  {
   "cell_type": "markdown",
   "metadata": {
    "id": "kEWhgyURr8Pu"
   },
   "source": [
    "### K-means"
   ]
  },
  {
   "cell_type": "code",
   "execution_count": 29,
   "metadata": {
    "executionInfo": {
     "elapsed": 10595,
     "status": "ok",
     "timestamp": 1656775254491,
     "user": {
      "displayName": "MohammadMohammadZadeh 2015",
      "userId": "02165635509077478933"
     },
     "user_tz": -270
    },
    "id": "snNdx9btVCoK"
   },
   "outputs": [],
   "source": [
    "from sklearn import metrics\n",
    "from sklearn.cluster import KMeans\n",
    "kmeans = KMeans(n_clusters=len(df['Department'].dropna().unique()))\n",
    "kmeans.fit(embeddings)\n",
    "y_kmeans = kmeans.predict(embeddings)"
   ]
  },
  {
   "cell_type": "code",
   "execution_count": 30,
   "metadata": {
    "colab": {
     "base_uri": "https://localhost:8080/"
    },
    "executionInfo": {
     "elapsed": 349,
     "status": "ok",
     "timestamp": 1656775257105,
     "user": {
      "displayName": "MohammadMohammadZadeh 2015",
      "userId": "02165635509077478933"
     },
     "user_tz": -270
    },
    "id": "mhZ9jpMT82F-",
    "outputId": "0f489089-3a9e-4b67-b821-b7df243dec38"
   },
   "outputs": [
    {
     "data": {
      "text/plain": [
       "array([ 1,  1,  1,  1,  1,  1,  1,  1,  1,  1,  1,  1,  1,  1,  1,  1,  1,\n",
       "        1,  1,  1,  1,  1,  1,  1,  1,  1,  1,  1,  1, 11,  1, 45, 26,  9,\n",
       "       26, 26,  9,  9, 26, 26,  9, 16, 16, 16, 16, 42, 26, 26, 26, 16,  9,\n",
       "       26, 24,  1,  1,  1, 17, 33,  1, 33, 33, 36, 33,  7, 33,  7, 33, 33,\n",
       "       19, 36, 33,  1,  1,  1,  1,  1,  1,  1,  1,  1,  1, 47,  9,  1,  1,\n",
       "        1,  1,  1,  1,  1,  1,  1,  1, 31,  1, 33,  1,  1,  1,  1,  1,  1,\n",
       "        1,  1,  1,  1,  1, 16, 16,  4,  4, 17, 17, 17, 17, 17, 17, 17, 17,\n",
       "       17, 17, 17, 17, 17, 17, 17,  1,  1,  8,  8,  8,  8,  8,  8,  8,  8,\n",
       "        4,  4, 17, 17,  4,  4, 17, 17, 17, 17, 17, 17, 17, 17, 17, 17, 17,\n",
       "        1, 17, 17, 17,  4, 33, 33, 33, 33, 33, 33, 33, 33, 33,  8,  8,  8,\n",
       "        8,  8,  8,  8,  8, 23,  1,  1,  8,  8,  8,  8,  8,  8,  8,  8,  8,\n",
       "        8,  4,  8,  8,  8,  8,  8,  8,  8,  8,  8,  8,  8], dtype=int32)"
      ]
     },
     "execution_count": 30,
     "metadata": {},
     "output_type": "execute_result"
    }
   ],
   "source": [
    "y_kmeans[:200]"
   ]
  },
  {
   "cell_type": "code",
   "execution_count": 31,
   "metadata": {
    "colab": {
     "base_uri": "https://localhost:8080/"
    },
    "executionInfo": {
     "elapsed": 418,
     "status": "ok",
     "timestamp": 1656775262386,
     "user": {
      "displayName": "MohammadMohammadZadeh 2015",
      "userId": "02165635509077478933"
     },
     "user_tz": -270
    },
    "id": "ul--bl5e-KJR",
    "outputId": "8d70b459-2086-419d-8a5f-b63983b7cf01"
   },
   "outputs": [
    {
     "data": {
      "text/plain": [
       "Counter({0: 98,\n",
       "         1: 800,\n",
       "         2: 38,\n",
       "         3: 83,\n",
       "         4: 86,\n",
       "         5: 47,\n",
       "         6: 58,\n",
       "         7: 82,\n",
       "         8: 55,\n",
       "         9: 64,\n",
       "         10: 99,\n",
       "         11: 91,\n",
       "         12: 71,\n",
       "         13: 120,\n",
       "         14: 86,\n",
       "         15: 63,\n",
       "         16: 109,\n",
       "         17: 32,\n",
       "         18: 68,\n",
       "         19: 87,\n",
       "         20: 43,\n",
       "         21: 36,\n",
       "         22: 91,\n",
       "         23: 63,\n",
       "         24: 125,\n",
       "         25: 59,\n",
       "         26: 75,\n",
       "         27: 72,\n",
       "         28: 95,\n",
       "         29: 26,\n",
       "         30: 39,\n",
       "         31: 91,\n",
       "         32: 98,\n",
       "         33: 42,\n",
       "         34: 41,\n",
       "         35: 34,\n",
       "         36: 80,\n",
       "         37: 65,\n",
       "         38: 76,\n",
       "         39: 62,\n",
       "         40: 55,\n",
       "         41: 46,\n",
       "         42: 74,\n",
       "         43: 27,\n",
       "         44: 33,\n",
       "         45: 109,\n",
       "         46: 74,\n",
       "         47: 26})"
      ]
     },
     "execution_count": 31,
     "metadata": {},
     "output_type": "execute_result"
    }
   ],
   "source": [
    "Counter(y_kmeans)"
   ]
  },
  {
   "cell_type": "markdown",
   "metadata": {
    "id": "Wme_CGoRsGPx"
   },
   "source": [
    "### DBSCAN"
   ]
  },
  {
   "cell_type": "code",
   "execution_count": 32,
   "metadata": {
    "colab": {
     "base_uri": "https://localhost:8080/"
    },
    "executionInfo": {
     "elapsed": 336,
     "status": "ok",
     "timestamp": 1656775268497,
     "user": {
      "displayName": "MohammadMohammadZadeh 2015",
      "userId": "02165635509077478933"
     },
     "user_tz": -270
    },
    "id": "G609_1frak5e",
    "outputId": "e69d2b23-c9c4-4cb1-9dec-6ff68eb1ad8b"
   },
   "outputs": [
    {
     "data": {
      "text/plain": [
       "0.14135492"
      ]
     },
     "execution_count": 32,
     "metadata": {},
     "output_type": "execute_result"
    }
   ],
   "source": [
    "np.dot(embeddings[2], embeddings[1000])"
   ]
  },
  {
   "cell_type": "code",
   "execution_count": 292,
   "metadata": {
    "executionInfo": {
     "elapsed": 830,
     "status": "ok",
     "timestamp": 1656776754557,
     "user": {
      "displayName": "MohammadMohammadZadeh 2015",
      "userId": "02165635509077478933"
     },
     "user_tz": -270
    },
    "id": "IvRCXee6sKhV"
   },
   "outputs": [],
   "source": [
    "from sklearn.cluster import DBSCAN\n",
    "epsilon = 0.68\n",
    "minimumSamples = 4\n",
    "db = DBSCAN(eps=epsilon, min_samples=minimumSamples).fit(embeddings)\n",
    "y_dbscan = db.labels_"
   ]
  },
  {
   "cell_type": "code",
   "execution_count": 293,
   "metadata": {
    "colab": {
     "base_uri": "https://localhost:8080/"
    },
    "executionInfo": {
     "elapsed": 11,
     "status": "ok",
     "timestamp": 1656776754559,
     "user": {
      "displayName": "MohammadMohammadZadeh 2015",
      "userId": "02165635509077478933"
     },
     "user_tz": -270
    },
    "id": "Mw0qYh_58tbC",
    "outputId": "321c187b-9e9b-495a-9c01-e49f1f24e7de"
   },
   "outputs": [
    {
     "data": {
      "text/plain": [
       "array([ 0,  0,  0,  0,  0,  0,  0,  0,  0,  0,  0,  0,  0,  0,  0,  0,  0,\n",
       "        0,  0,  0,  0,  0,  0,  0,  0,  0,  0,  0,  0, -1,  0,  1,  1,  1,\n",
       "       -1, -1, -1, -1, -1, -1, -1,  1,  1,  1,  1, -1, -1,  1,  1,  1, -1,\n",
       "       -1, -1,  0,  0,  0,  2, -1,  0,  3, -1, -1, -1, -1, -1, -1, -1, -1,\n",
       "       -1, -1,  3,  0,  0,  0,  0,  0,  0,  0,  0,  0,  0,  1,  4,  0,  0,\n",
       "        0,  0,  0,  0,  0,  0,  0,  0, -1,  0, -1,  0,  0,  0,  0,  0,  0,\n",
       "        0,  0,  0,  0,  0,  3,  3,  5,  5,  2,  2,  2,  2,  2,  2,  2,  2,\n",
       "        2,  2,  2,  2,  2,  2,  2,  0,  0,  6,  6,  6,  6,  6,  6,  6,  6,\n",
       "        5,  5,  2,  2,  5,  5,  2,  2,  2,  2,  2,  2,  2,  2,  2,  2,  2,\n",
       "        0,  2,  2,  2,  5,  1,  1,  1,  1,  1,  1,  1,  1,  1,  6,  6,  6,\n",
       "        6,  6,  6,  6,  6, -1,  0,  0,  6,  6,  6,  6,  6,  6,  6,  6,  6,\n",
       "        6, -1,  6,  6,  6,  6,  6,  6,  6,  6,  6,  6,  6])"
      ]
     },
     "execution_count": 293,
     "metadata": {},
     "output_type": "execute_result"
    }
   ],
   "source": [
    "y_dbscan[:200]"
   ]
  },
  {
   "cell_type": "code",
   "execution_count": 294,
   "metadata": {
    "colab": {
     "base_uri": "https://localhost:8080/"
    },
    "executionInfo": {
     "elapsed": 340,
     "status": "ok",
     "timestamp": 1656776754892,
     "user": {
      "displayName": "MohammadMohammadZadeh 2015",
      "userId": "02165635509077478933"
     },
     "user_tz": -270
    },
    "id": "IYlL5koO-RNv",
    "outputId": "e555ef1d-301e-4509-db40-ce5ccef3a9d3"
   },
   "outputs": [
    {
     "data": {
      "text/plain": [
       "Counter({-1: 1813,\n",
       "         0: 800,\n",
       "         1: 1044,\n",
       "         2: 32,\n",
       "         3: 4,\n",
       "         4: 9,\n",
       "         5: 7,\n",
       "         6: 53,\n",
       "         7: 4,\n",
       "         8: 10,\n",
       "         9: 4,\n",
       "         10: 4,\n",
       "         11: 4,\n",
       "         12: 8,\n",
       "         13: 4,\n",
       "         14: 4,\n",
       "         15: 16,\n",
       "         16: 4,\n",
       "         17: 5,\n",
       "         18: 5,\n",
       "         19: 8,\n",
       "         20: 9,\n",
       "         21: 5,\n",
       "         22: 4,\n",
       "         23: 4,\n",
       "         24: 5,\n",
       "         25: 4,\n",
       "         26: 4,\n",
       "         27: 7,\n",
       "         28: 4,\n",
       "         29: 5,\n",
       "         30: 7,\n",
       "         31: 3,\n",
       "         32: 4,\n",
       "         33: 5,\n",
       "         34: 10,\n",
       "         35: 13,\n",
       "         36: 8,\n",
       "         37: 4,\n",
       "         38: 6,\n",
       "         39: 4,\n",
       "         40: 4,\n",
       "         41: 4,\n",
       "         42: 4,\n",
       "         43: 4,\n",
       "         44: 9,\n",
       "         45: 5,\n",
       "         46: 4,\n",
       "         47: 3})"
      ]
     },
     "execution_count": 294,
     "metadata": {},
     "output_type": "execute_result"
    }
   ],
   "source": [
    "Counter(y_dbscan)"
   ]
  },
  {
   "cell_type": "markdown",
   "metadata": {
    "id": "J7_pvo7D4iB2"
   },
   "source": [
    "### Clustering Evaluation"
   ]
  },
  {
   "cell_type": "code",
   "execution_count": 295,
   "metadata": {
    "executionInfo": {
     "elapsed": 359,
     "status": "ok",
     "timestamp": 1656776761280,
     "user": {
      "displayName": "MohammadMohammadZadeh 2015",
      "userId": "02165635509077478933"
     },
     "user_tz": -270
    },
    "id": "DFmS5TVAeqFO"
   },
   "outputs": [],
   "source": [
    "from sklearn.metrics import rand_score\n",
    "def purity_score(y_true, y_pred):\n",
    "    # compute contingency matrix (also called confusion matrix)\n",
    "    contingency_matrix = metrics.cluster.contingency_matrix(y_true, y_pred)\n",
    "    return np.sum(np.amax(contingency_matrix, axis=0)) / np.sum(contingency_matrix) "
   ]
  },
  {
   "cell_type": "code",
   "execution_count": 296,
   "metadata": {
    "colab": {
     "base_uri": "https://localhost:8080/"
    },
    "executionInfo": {
     "elapsed": 8,
     "status": "ok",
     "timestamp": 1656776761629,
     "user": {
      "displayName": "MohammadMohammadZadeh 2015",
      "userId": "02165635509077478933"
     },
     "user_tz": -270
    },
    "id": "Yb1opjJpgMOV",
    "outputId": "7cab00ad-c7ea-4c77-96d6-e60ac2b6403f"
   },
   "outputs": [
    {
     "name": "stdout",
     "output_type": "stream",
     "text": [
      "Purity using K-Means: 0.4359038557836755\n",
      "Rand-index using K-Means: 0.9137308517246192\n",
      "Purity using DBSCAN: 0.20756134201301954\n",
      "Rand-index using DBSCAN: 0.6772929241094299\n"
     ]
    }
   ],
   "source": [
    "labels = df['Department'].to_list()\n",
    "print('Purity using K-Means:',purity_score(labels, y_kmeans))\n",
    "print('Rand-index using K-Means:',rand_score(labels, y_kmeans))\n",
    "print('Purity using DBSCAN:',purity_score(labels, y_dbscan))\n",
    "print('Rand-index using DBSCAN:',rand_score(labels, y_dbscan))"
   ]
  },
  {
   "cell_type": "code",
   "execution_count": 297,
   "metadata": {
    "executionInfo": {
     "elapsed": 344,
     "status": "ok",
     "timestamp": 1656776776129,
     "user": {
      "displayName": "MohammadMohammadZadeh 2015",
      "userId": "02165635509077478933"
     },
     "user_tz": -270
    },
    "id": "GF5CNNLT0w3V"
   },
   "outputs": [],
   "source": [
    "def unique(list1):\n",
    "    unique_list = []\n",
    "    for x in list1:\n",
    "        if x not in unique_list:\n",
    "            unique_list.append(x)\n",
    "    return unique_list"
   ]
  },
  {
   "cell_type": "code",
   "execution_count": 299,
   "metadata": {
    "colab": {
     "base_uri": "https://localhost:8080/"
    },
    "executionInfo": {
     "elapsed": 148124,
     "status": "ok",
     "timestamp": 1656777160302,
     "user": {
      "displayName": "MohammadMohammadZadeh 2015",
      "userId": "02165635509077478933"
     },
     "user_tz": -270
    },
    "id": "txCR8FTGgsQe",
    "outputId": "c43517dc-7ac5-4a76-bbd3-b45a1d51ca44"
   },
   "outputs": [
    {
     "name": "stdout",
     "output_type": "stream",
     "text": [
      "48 clusters for K-means:\n",
      "[95491, 640000, 26541, 66246, 76924, 73919, 30988, 61538, 49172, 139549, 170585, 92346, 67153, 242056, 109735, 54757, 428858, 46061, 228044, 113428, 27820, 58198, 135031, 33285, 167773, 63784, 147921, 56737, 191421, 21386, 14029, 215244, 187525, 26159, 39382, 30505, 79942, 255257, 56012, 73302, 29808, 21612, 77467, 46768, 12930, 156499, 44769, 14060]\n",
      "49 clusters for DBSCAN:\n",
      "[25969395, 640000, 19690920, 46061, 628, 3423, 2036, 47506, 1433, 5114, 714, 792, 304, 4083, 1191, 2988, 7902, 881, 1207, 632, 1302, 2188, 672, 559, 535, 424, 320, 783, 1764, 599, 415, 833, 134, 207, 782, 1770, 3135, 1709, 401, 740, 369, 516, 917, 371, 320, 2341, 949, 379, 413]\n"
     ]
    }
   ],
   "source": [
    "# evaluateCluster returns number of times words in a sentence repeat in other sentences of same cluster\n",
    "def evaluateCluster(clusterNumber,clusteringAlgorithm):\n",
    "    clusterMembersCount = 0\n",
    "    similarWordsCount = []\n",
    "    indexes = []\n",
    "    if clusteringAlgorithm == \"K-means\":\n",
    "        for i in range(len(y_kmeans)):\n",
    "            if y_kmeans[i] == clusterNumber:\n",
    "                clusterMembersCount = clusterMembersCount + 1\n",
    "                indexes.append(i)\n",
    "    elif clusteringAlgorithm == \"DBSCAN\":\n",
    "        for i in range(len(y_dbscan)):\n",
    "            if y_dbscan[i] == clusterNumber:\n",
    "                clusterMembersCount = clusterMembersCount + 1\n",
    "                indexes.append(i)\n",
    "    for i in range(clusterMembersCount):\n",
    "        tempSimilarWordsCount = 0\n",
    "        if cleaned_texts[indexes[i]] is not None:\n",
    "            tempSentenceWords = cleaned_texts[indexes[i]].split(' ')\n",
    "            for word in tempSentenceWords:\n",
    "                for j in range(clusterMembersCount):\n",
    "                    if cleaned_texts[indexes[j]] is not None:\n",
    "                        if word in cleaned_texts[indexes[j]]:\n",
    "                            tempSimilarWordsCount = tempSimilarWordsCount + 1\n",
    "            similarWordsCount.append(tempSimilarWordsCount)\n",
    "    return similarWordsCount\n",
    "\n",
    "clusterWordsRepeatCount = []\n",
    "clusterCountOfKMeans = len(unique(y_kmeans))\n",
    "for i in range(clusterCountOfKMeans):\n",
    "    clusterWordsRepeatCount.append(sum(evaluateCluster(i, 'K-means')))\n",
    "print(clusterCountOfKMeans, \"clusters for K-means:\")\n",
    "print(clusterWordsRepeatCount)\n",
    "clusterWordsRepeatCount = []\n",
    "clusterCountOfDBSCAN = len(unique(y_dbscan))\n",
    "for i in range(-1,clusterCountOfDBSCAN - 1):\n",
    "    clusterWordsRepeatCount.append(sum(evaluateCluster(i, 'DBSCAN')))\n",
    "print(clusterCountOfDBSCAN, \"clusters for DBSCAN:\")\n",
    "print(clusterWordsRepeatCount)"
   ]
  },
  {
   "cell_type": "markdown",
   "metadata": {
    "id": "IZLhITii_7gj"
   },
   "source": [
    "## **Classification**"
   ]
  },
  {
   "cell_type": "code",
   "execution_count": null,
   "metadata": {
    "id": "MW-efdl3FljE"
   },
   "outputs": [],
   "source": [
    "plt.rcParams['figure.figsize'] = (12,8)"
   ]
  },
  {
   "cell_type": "code",
   "execution_count": null,
   "metadata": {
    "id": "b1cc0cWMCgN0"
   },
   "outputs": [],
   "source": [
    "from sklearn.metrics import f1_score\n",
    "from sklearn.model_selection import train_test_split\n",
    "from sklearn.pipeline import make_pipeline\n",
    "from sklearn.preprocessing import StandardScaler, MinMaxScaler\n",
    "from sklearn.neighbors import KNeighborsClassifier\n",
    "from sklearn.svm import SVC\n",
    "from sklearn.linear_model import Perceptron\n",
    "from sklearn.neural_network import MLPClassifier"
   ]
  },
  {
   "cell_type": "code",
   "execution_count": null,
   "metadata": {
    "id": "mK1QZ7cZpa6G"
   },
   "outputs": [],
   "source": [
    "labels = df['Department'].to_list()"
   ]
  },
  {
   "cell_type": "code",
   "execution_count": null,
   "metadata": {
    "id": "UG92nxtdChXZ"
   },
   "outputs": [],
   "source": [
    "x_train, x_test, y_train, y_test = train_test_split(embeddings, np.asarray(labels), test_size=0.20, random_state=2000)"
   ]
  },
  {
   "cell_type": "code",
   "execution_count": null,
   "metadata": {
    "colab": {
     "base_uri": "https://localhost:8080/"
    },
    "id": "aZza6QqbCy8n",
    "outputId": "9161e87b-fa6b-4552-a00d-bb2916d4fdeb"
   },
   "outputs": [
    {
     "name": "stdout",
     "output_type": "stream",
     "text": [
      "(3195, 384)\n",
      "(3195,)\n",
      "\n",
      "(799, 384)\n",
      "(799,)\n"
     ]
    }
   ],
   "source": [
    "print(x_train.shape)\n",
    "print(y_train.shape)\n",
    "print()\n",
    "print(x_test.shape)\n",
    "print(y_test.shape)"
   ]
  },
  {
   "cell_type": "markdown",
   "metadata": {
    "id": "JJCRV52GDU21"
   },
   "source": [
    "### KNN"
   ]
  },
  {
   "cell_type": "code",
   "execution_count": null,
   "metadata": {
    "colab": {
     "base_uri": "https://localhost:8080/"
    },
    "id": "VOwER7GtDj4W",
    "outputId": "0485e13a-b3c5-4c05-9cf1-b294e575d693"
   },
   "outputs": [
    {
     "name": "stdout",
     "output_type": "stream",
     "text": [
      "K: 01\t Accuracy: 62.453%, F1 score: 0.479\n",
      "K: 02\t Accuracy: 57.572%, F1 score: 0.417\n",
      "K: 03\t Accuracy: 58.198%, F1 score: 0.426\n",
      "K: 04\t Accuracy: 53.567%, F1 score: 0.397\n",
      "K: 05\t Accuracy: 54.318%, F1 score: 0.406\n",
      "K: 06\t Accuracy: 54.693%, F1 score: 0.396\n",
      "K: 07\t Accuracy: 51.815%, F1 score: 0.377\n",
      "K: 08\t Accuracy: 50.814%, F1 score: 0.371\n",
      "K: 09\t Accuracy: 49.937%, F1 score: 0.354\n",
      "K: 10\t Accuracy: 50.188%, F1 score: 0.351\n"
     ]
    }
   ],
   "source": [
    "knn_accuracies = []\n",
    "knn_f1_scores = []\n",
    "\n",
    "k_values = list(range(1, 11))\n",
    "for k in k_values:\n",
    "    knn = KNeighborsClassifier(n_neighbors=k)\n",
    "    knn.fit(x_train, y_train)\n",
    "\n",
    "    score = knn.score(x_test, y_test)\n",
    "    knn_accuracies.append(score)\n",
    "\n",
    "    f1_score_ = f1_score(y_test, knn.predict(x_test), average='macro')\n",
    "    knn_f1_scores.append(f1_score_)\n",
    "    print(f'K: {k:02d}\\t Accuracy: {score*100:.3f}%, F1 score: {f1_score_:.3f}')"
   ]
  },
  {
   "cell_type": "code",
   "execution_count": null,
   "metadata": {
    "colab": {
     "base_uri": "https://localhost:8080/",
     "height": 530
    },
    "id": "L2ZeZmMWB--N",
    "outputId": "ffa50257-6809-4ea6-c951-d32d992c7d75"
   },
   "outputs": [
    {
     "data": {
      "text/plain": [
       "Text(0.5, 1.0, 'Performance for different values of K using KNN algorithm')"
      ]
     },
     "execution_count": 143,
     "metadata": {},
     "output_type": "execute_result"
    },
    {
     "data": {
      "image/png": "[encoded data removed]",
      "text/plain": [
       "<Figure size 864x576 with 1 Axes>"
      ]
     },
     "metadata": {
      "needs_background": "light"
     },
     "output_type": "display_data"
    }
   ],
   "source": [
    "plt.plot(\n",
    "    k_values, \n",
    "    knn_accuracies, \n",
    "    '-o',\n",
    "    alpha=0.9,\n",
    "    label='accuracy'\n",
    ")\n",
    "plt.plot(\n",
    "    k_values, \n",
    "    knn_f1_scores, \n",
    "    '-o',\n",
    "    alpha=0.9,\n",
    "    label='f1 score (macro)'\n",
    ")\n",
    "\n",
    "plt.legend()\n",
    "plt.xticks(k_values)\n",
    "plt.xlabel('Value of K')\n",
    "plt.ylabel('Performance')\n",
    "plt.title('Performance for different values of K using KNN algorithm')"
   ]
  },
  {
   "cell_type": "markdown",
   "metadata": {
    "id": "YLoR6vxkJ3yR"
   },
   "source": [
    "### SVM"
   ]
  },
  {
   "cell_type": "code",
   "execution_count": null,
   "metadata": {
    "colab": {
     "base_uri": "https://localhost:8080/"
    },
    "id": "0-715mj3KxSQ",
    "outputId": "65a7a2e0-88f0-4b65-8eff-412229b275b1"
   },
   "outputs": [
    {
     "name": "stdout",
     "output_type": "stream",
     "text": [
      "C=1.0, Kernel=linear   -->   Accuracy=63.079%, F1 score: 0.486\n",
      "C=2.5, Kernel=linear   -->   Accuracy=63.079%, F1 score: 0.486\n",
      "C=5.0, Kernel=linear   -->   Accuracy=63.079%, F1 score: 0.486\n",
      "C=10.0, Kernel=linear   -->   Accuracy=63.079%, F1 score: 0.486\n",
      "\n",
      "C=1.0, Kernel=poly     -->   Accuracy=49.061%, F1 score: 0.340\n",
      "C=2.5, Kernel=poly     -->   Accuracy=52.816%, F1 score: 0.380\n",
      "C=5.0, Kernel=poly     -->   Accuracy=53.442%, F1 score: 0.383\n",
      "C=10.0, Kernel=poly     -->   Accuracy=53.442%, F1 score: 0.383\n",
      "\n",
      "C=1.0, Kernel=rbf      -->   Accuracy=65.707%, F1 score: 0.491\n",
      "C=2.5, Kernel=rbf      -->   Accuracy=66.708%, F1 score: 0.518\n",
      "C=5.0, Kernel=rbf      -->   Accuracy=66.834%, F1 score: 0.517\n",
      "C=10.0, Kernel=rbf      -->   Accuracy=66.834%, F1 score: 0.516\n",
      "\n",
      "C=1.0, Kernel=sigmoid  -->   Accuracy=61.202%, F1 score: 0.447\n",
      "C=2.5, Kernel=sigmoid  -->   Accuracy=62.703%, F1 score: 0.478\n",
      "C=5.0, Kernel=sigmoid  -->   Accuracy=61.452%, F1 score: 0.472\n",
      "C=10.0, Kernel=sigmoid  -->   Accuracy=59.324%, F1 score: 0.459\n",
      "\n"
     ]
    }
   ],
   "source": [
    "svm_accuracies = []\n",
    "svm_f1_scores = []\n",
    "\n",
    "c_values = [1, 2.5, 5, 10]\n",
    "kernels = ['linear', 'poly', 'rbf', 'sigmoid']\n",
    "for kernel in kernels:\n",
    "    for c in c_values:\n",
    "        svm = make_pipeline(StandardScaler(), SVC(kernel=kernel, C=c, degree=4, coef0=0.01, random_state=2000, max_iter = 5000))\n",
    "        svm.fit(x_train, y_train)\n",
    "        \n",
    "        score = svm.score(x_test, y_test)\n",
    "        svm_accuracies.append(score)\n",
    "\n",
    "        f1_score_ = f1_score(y_test, svm.predict(x_test), average='macro')\n",
    "        svm_f1_scores.append(f1_score_)\n",
    "\n",
    "        print(f'C={c:02.1f}, Kernel={kernel:8} -->   Accuracy={score*100:.3f}%, F1 score: {f1_score_:.3f}')\n",
    "    print()\n"
   ]
  },
  {
   "cell_type": "code",
   "execution_count": null,
   "metadata": {
    "colab": {
     "base_uri": "https://localhost:8080/",
     "height": 581
    },
    "id": "i9ifCEs5OTj3",
    "outputId": "90152770-1db5-4714-e31b-3364225e12a6"
   },
   "outputs": [
    {
     "data": {
      "text/plain": [
       "Text(0.5, 1.0, 'Performance for different hyperparameters using SVM algorithm')"
      ]
     },
     "execution_count": 142,
     "metadata": {},
     "output_type": "execute_result"
    },
    {
     "data": {
      "image/png": "[encoded data removed]",
      "text/plain": [
       "<Figure size 864x576 with 1 Axes>"
      ]
     },
     "metadata": {
      "needs_background": "light"
     },
     "output_type": "display_data"
    }
   ],
   "source": [
    "plt.plot(\n",
    "    [f'{k}(c={c})' for k in kernels for c in c_values], \n",
    "    svm_accuracies, \n",
    "    '-o',\n",
    "    alpha=0.9,\n",
    "    label='accuracy'\n",
    ")\n",
    "\n",
    "plt.plot(\n",
    "    [f'{k}(c={c})' for k in kernels for c in c_values], \n",
    "    svm_f1_scores, \n",
    "    '-o',\n",
    "    alpha=0.9,\n",
    "    label='f1 score'\n",
    ")\n",
    "\n",
    "plt.legend()\n",
    "plt.xticks([f'{k}(c={c})' for k in kernels for c in c_values], rotation=45)\n",
    "plt.xlabel('Settings of SVM')\n",
    "plt.ylabel('Performance')\n",
    "plt.title('Performance for different hyperparameters using SVM algorithm')"
   ]
  },
  {
   "cell_type": "markdown",
   "metadata": {
    "id": "YGGfZxLUjzBc"
   },
   "source": [
    "### Neural network (perceptron)"
   ]
  },
  {
   "cell_type": "code",
   "execution_count": null,
   "metadata": {
    "colab": {
     "base_uri": "https://localhost:8080/"
    },
    "id": "sfZCSaxuj2xG",
    "outputId": "e7a7408c-8524-48ec-f0e7-908486a43335"
   },
   "outputs": [
    {
     "data": {
      "text/plain": [
       "Pipeline(steps=[('standardscaler', StandardScaler()),\n",
       "                ('perceptron',\n",
       "                 Perceptron(eta0=0.3, penalty='l1', random_state=2000))])"
      ]
     },
     "execution_count": 144,
     "metadata": {},
     "output_type": "execute_result"
    }
   ],
   "source": [
    "perceptron_accuracies = []\n",
    "perceptron_f1_scores = []\n",
    "\n",
    "perceptron = make_pipeline(StandardScaler(), Perceptron(\n",
    "    penalty='l1',\n",
    "    eta0=0.3,\n",
    "    random_state=2000\n",
    "))\n",
    "perceptron.fit(x_train, y_train)"
   ]
  },
  {
   "cell_type": "code",
   "execution_count": null,
   "metadata": {
    "colab": {
     "base_uri": "https://localhost:8080/"
    },
    "id": "MCiYzlBEk1Ze",
    "outputId": "e4973136-6cfd-4ab9-fee8-385c14a573ab"
   },
   "outputs": [
    {
     "name": "stdout",
     "output_type": "stream",
     "text": [
      "0.571964956195244\n",
      "0.43223037152512295\n"
     ]
    }
   ],
   "source": [
    "score = perceptron.score(x_test, y_test)\n",
    "perceptron_accuracies.append(score)\n",
    "print(score)\n",
    "\n",
    "f1_score_ = f1_score(y_test, perceptron.predict(x_test), average='macro')\n",
    "perceptron_f1_scores.append(f1_score_)\n",
    "print(f1_score_)"
   ]
  },
  {
   "cell_type": "markdown",
   "metadata": {
    "id": "v425PdksmPCS"
   },
   "source": [
    "### Multilayer perceptron (MLP)"
   ]
  },
  {
   "cell_type": "code",
   "execution_count": null,
   "metadata": {
    "colab": {
     "base_uri": "https://localhost:8080/"
    },
    "id": "k2dPzzTnmVxW",
    "outputId": "388dedca-5345-4556-acbc-5b56ddb552d2"
   },
   "outputs": [
    {
     "name": "stdout",
     "output_type": "stream",
     "text": [
      "Number of hidden layers=1, Size of hidden layers=(100,) -->   Accuracy=62.078%, F1 score: 0.460\n",
      "Number of hidden layers=1, Size of hidden layers=(384,) -->   Accuracy=64.706%, F1 score: 0.487\n",
      "Number of hidden layers=2, Size of hidden layers=(128, 64) -->   Accuracy=63.830%, F1 score: 0.485\n",
      "Number of hidden layers=2, Size of hidden layers=(384, 64) -->   Accuracy=62.954%, F1 score: 0.473\n",
      "Number of hidden layers=3, Size of hidden layers=(384, 128, 64) -->   Accuracy=62.578%, F1 score: 0.480\n",
      "Number of hidden layers=4, Size of hidden layers=(384, 128, 64, 32) -->   Accuracy=61.327%, F1 score: 0.452\n"
     ]
    }
   ],
   "source": [
    "hidden_layers_sizes = [\n",
    "    (100,),\n",
    "    (embeddings.shape[1],),\n",
    "    (128, 64,),\n",
    "    (embeddings.shape[1], 64),\n",
    "    (embeddings.shape[1], 128, 64),\n",
    "    (embeddings.shape[1], 128, 64, 32)\n",
    "]\n",
    "\n",
    "mlp_accuracies = []\n",
    "mlp_f1_scores = []\n",
    "for hidden_layers_size in hidden_layers_sizes:\n",
    "    mlp = make_pipeline(MinMaxScaler((-1,1)), \n",
    "        MLPClassifier(\n",
    "            activation='relu',\n",
    "            hidden_layer_sizes=hidden_layers_size,\n",
    "            max_iter=1000,\n",
    "            random_state=2000\n",
    "        )\n",
    "    )\n",
    "    mlp.fit(x_train, y_train)\n",
    "\n",
    "    score = mlp.score(x_test, y_test)\n",
    "    mlp_accuracies.append(score)\n",
    "\n",
    "    f1_score_ = f1_score(y_test, mlp.predict(x_test), average='macro')\n",
    "    mlp_f1_scores.append(f1_score_)\n",
    "\n",
    "    print(f'Number of hidden layers={len(hidden_layers_size)}, Size of hidden layers={hidden_layers_size} -->   Accuracy={score*100:.3f}%, F1 score: {f1_score_:.3f}')"
   ]
  },
  {
   "cell_type": "code",
   "execution_count": null,
   "metadata": {
    "colab": {
     "base_uri": "https://localhost:8080/",
     "height": 590
    },
    "id": "oQ_vXhIjm2hi",
    "outputId": "c6db86d8-0f16-4b9c-e63c-1a9d075ba3c0"
   },
   "outputs": [
    {
     "data": {
      "text/plain": [
       "Text(0.5, 1.0, 'Performance for different hidden layer(s) using MLP algorithm')"
      ]
     },
     "execution_count": 141,
     "metadata": {},
     "output_type": "execute_result"
    },
    {
     "data": {
      "image/png": "[encoded data removed]",
      "text/plain": [
       "<Figure size 864x576 with 1 Axes>"
      ]
     },
     "metadata": {
      "needs_background": "light"
     },
     "output_type": "display_data"
    }
   ],
   "source": [
    "plt.plot(\n",
    "    [f'{size}' for size in hidden_layers_sizes], \n",
    "    mlp_accuracies, \n",
    "    '-o',\n",
    "    alpha=0.9,\n",
    "    label='accuracy'\n",
    ")\n",
    "\n",
    "plt.plot(\n",
    "    [f'{size}' for size in hidden_layers_sizes], \n",
    "    mlp_f1_scores, \n",
    "    '-o',\n",
    "    alpha=0.9,\n",
    "    label='f1 score'\n",
    ")\n",
    "\n",
    "plt.legend()\n",
    "plt.xticks([f'{size}' for size in hidden_layers_sizes], rotation=45)\n",
    "plt.xlabel('Size of hidden layer(s)')\n",
    "plt.ylabel('Performance')\n",
    "plt.title('Performance for different hidden layer(s) using MLP algorithm')"
   ]
  },
  {
   "cell_type": "markdown",
   "metadata": {
    "id": "Z4I5mW58sRLx"
   },
   "source": [
    "### Compare different classification algortim results"
   ]
  },
  {
   "cell_type": "code",
   "execution_count": null,
   "metadata": {
    "id": "_gts3W7nsXhJ"
   },
   "outputs": [],
   "source": [
    "algorithms = [\n",
    "    'KNN',\n",
    "    'SVM',\n",
    "    'Percptron',\n",
    "    'MLP'\n",
    "]"
   ]
  },
  {
   "cell_type": "code",
   "execution_count": null,
   "metadata": {
    "id": "t_eRaRHDsmlT"
   },
   "outputs": [],
   "source": [
    "best_raccuracy_per_algorithm = [\n",
    "    np.max(knn_accuracies),\n",
    "    np.max(svm_accuracies),\n",
    "    np.max(perceptron_accuracies),\n",
    "    np.max(mlp_accuracies),\n",
    "]"
   ]
  },
  {
   "cell_type": "code",
   "execution_count": null,
   "metadata": {
    "id": "-41BOzUsrybU"
   },
   "outputs": [],
   "source": [
    "best_f1_score_per_algorithm = [\n",
    "    np.max(knn_f1_scores),\n",
    "    np.max(svm_f1_scores),\n",
    "    np.max(perceptron_f1_scores),\n",
    "    np.max(mlp_f1_scores),\n",
    "]"
   ]
  },
  {
   "cell_type": "code",
   "execution_count": null,
   "metadata": {
    "colab": {
     "base_uri": "https://localhost:8080/",
     "height": 560
    },
    "id": "3IG8nFMUtIH_",
    "outputId": "1ea29038-23ea-4946-c517-fcc7a3923ae6"
   },
   "outputs": [
    {
     "data": {
      "text/plain": [
       "Text(0.5, 1.0, 'Performance for different classification algorithms')"
      ]
     },
     "execution_count": 148,
     "metadata": {},
     "output_type": "execute_result"
    },
    {
     "data": {
      "image/png": "[encoded data removed]",
      "text/plain": [
       "<Figure size 864x576 with 1 Axes>"
      ]
     },
     "metadata": {
      "needs_background": "light"
     },
     "output_type": "display_data"
    }
   ],
   "source": [
    "plt.plot(\n",
    "    algorithms, \n",
    "    best_raccuracy_per_algorithm, \n",
    "    '-o',\n",
    "    alpha=0.9,\n",
    "    label='best accuracy'\n",
    ")\n",
    "\n",
    "plt.plot(\n",
    "    algorithms, \n",
    "    best_f1_score_per_algorithm, \n",
    "    '-o',\n",
    "    alpha=0.9,\n",
    "    label='best f1 score'\n",
    ")\n",
    "\n",
    "plt.legend()\n",
    "plt.xticks(algorithms, rotation=45)\n",
    "plt.xlabel('Algorithm')\n",
    "plt.ylabel('Performance')\n",
    "plt.title('Performance for different classification algorithms')"
   ]
  }
 ],
 "metadata": {
  "colab": {
   "collapsed_sections": [],
   "name": "DataMining_Final.ipynb",
   "provenance": [],
   "toc_visible": true
  },
  "gpuClass": "standard",
  "kernelspec": {
   "display_name": "Python 3",
   "language": "python",
   "name": "python3"
  },
  "language_info": {
   "codemirror_mode": {
    "name": "ipython",
    "version": 3
   },
   "file_extension": ".py",
   "mimetype": "text/x-python",
   "name": "python",
   "nbconvert_exporter": "python",
   "pygments_lexer": "ipython3",
   "version": "3.8.8"
  },
  "widgets": {
   "application/vnd.jupyter.widget-state+json": {
    "003bf6be527a4a5993dac133e8beaa23": {
     "model_module": "@jupyter-widgets/base",
     "model_module_version": "1.2.0",
     "model_name": "LayoutModel",
     "state": {
      "_model_module": "@jupyter-widgets/base",
      "_model_module_version": "1.2.0",
      "_model_name": "LayoutModel",
      "_view_count": null,
      "_view_module": "@jupyter-widgets/base",
      "_view_module_version": "1.2.0",
      "_view_name": "LayoutView",
      "align_content": null,
      "align_items": null,
      "align_self": null,
      "border": null,
      "bottom": null,
      "display": null,
      "flex": null,
      "flex_flow": null,
      "grid_area": null,
      "grid_auto_columns": null,
      "grid_auto_flow": null,
      "grid_auto_rows": null,
      "grid_column": null,
      "grid_gap": null,
      "grid_row": null,
      "grid_template_areas": null,
      "grid_template_columns": null,
      "grid_template_rows": null,
      "height": null,
      "justify_content": null,
      "justify_items": null,
      "left": null,
      "margin": null,
      "max_height": null,
      "max_width": null,
      "min_height": null,
      "min_width": null,
      "object_fit": null,
      "object_position": null,
      "order": null,
      "overflow": null,
      "overflow_x": null,
      "overflow_y": null,
      "padding": null,
      "right": null,
      "top": null,
      "visibility": null,
      "width": null
     }
    },
    "010d7c1346fb492399763c8d98186ede": {
     "model_module": "@jupyter-widgets/base",
     "model_module_version": "1.2.0",
     "model_name": "LayoutModel",
     "state": {
      "_model_module": "@jupyter-widgets/base",
      "_model_module_version": "1.2.0",
      "_model_name": "LayoutModel",
      "_view_count": null,
      "_view_module": "@jupyter-widgets/base",
      "_view_module_version": "1.2.0",
      "_view_name": "LayoutView",
      "align_content": null,
      "align_items": null,
      "align_self": null,
      "border": null,
      "bottom": null,
      "display": null,
      "flex": null,
      "flex_flow": null,
      "grid_area": null,
      "grid_auto_columns": null,
      "grid_auto_flow": null,
      "grid_auto_rows": null,
      "grid_column": null,
      "grid_gap": null,
      "grid_row": null,
      "grid_template_areas": null,
      "grid_template_columns": null,
      "grid_template_rows": null,
      "height": null,
      "justify_content": null,
      "justify_items": null,
      "left": null,
      "margin": null,
      "max_height": null,
      "max_width": null,
      "min_height": null,
      "min_width": null,
      "object_fit": null,
      "object_position": null,
      "order": null,
      "overflow": null,
      "overflow_x": null,
      "overflow_y": null,
      "padding": null,
      "right": null,
      "top": null,
      "visibility": null,
      "width": null
     }
    },
    "046778d3fecd404e8d06539b9bcb4f95": {
     "model_module": "@jupyter-widgets/controls",
     "model_module_version": "1.5.0",
     "model_name": "HBoxModel",
     "state": {
      "_dom_classes": [],
      "_model_module": "@jupyter-widgets/controls",
      "_model_module_version": "1.5.0",
      "_model_name": "HBoxModel",
      "_view_count": null,
      "_view_module": "@jupyter-widgets/controls",
      "_view_module_version": "1.5.0",
      "_view_name": "HBoxView",
      "box_style": "",
      "children": [
       "IPY_MODEL_5b9ef34408984a26b3ae63381570352b",
       "IPY_MODEL_77b346308dac42f89a89b8fd526d1bcf",
       "IPY_MODEL_83da746f4f84447ca6a73bf0ac285323"
      ],
      "layout": "IPY_MODEL_468babd377b64dca9ef113d53fabf6ec"
     }
    },
    "04c78795ffd540b485b257ef1fd98d84": {
     "model_module": "@jupyter-widgets/controls",
     "model_module_version": "1.5.0",
     "model_name": "HTMLModel",
     "state": {
      "_dom_classes": [],
      "_model_module": "@jupyter-widgets/controls",
      "_model_module_version": "1.5.0",
      "_model_name": "HTMLModel",
      "_view_count": null,
      "_view_module": "@jupyter-widgets/controls",
      "_view_module_version": "1.5.0",
      "_view_name": "HTMLView",
      "description": "",
      "description_tooltip": null,
      "layout": "IPY_MODEL_010d7c1346fb492399763c8d98186ede",
      "placeholder": "​",
      "style": "IPY_MODEL_73d08f37bda04b6e960262f6f7b5ade3",
      "value": "Downloading: 100%"
     }
    },
    "07d2e98777b94f85889dd0c7c3923e51": {
     "model_module": "@jupyter-widgets/base",
     "model_module_version": "1.2.0",
     "model_name": "LayoutModel",
     "state": {
      "_model_module": "@jupyter-widgets/base",
      "_model_module_version": "1.2.0",
      "_model_name": "LayoutModel",
      "_view_count": null,
      "_view_module": "@jupyter-widgets/base",
      "_view_module_version": "1.2.0",
      "_view_name": "LayoutView",
      "align_content": null,
      "align_items": null,
      "align_self": null,
      "border": null,
      "bottom": null,
      "display": null,
      "flex": null,
      "flex_flow": null,
      "grid_area": null,
      "grid_auto_columns": null,
      "grid_auto_flow": null,
      "grid_auto_rows": null,
      "grid_column": null,
      "grid_gap": null,
      "grid_row": null,
      "grid_template_areas": null,
      "grid_template_columns": null,
      "grid_template_rows": null,
      "height": null,
      "justify_content": null,
      "justify_items": null,
      "left": null,
      "margin": null,
      "max_height": null,
      "max_width": null,
      "min_height": null,
      "min_width": null,
      "object_fit": null,
      "object_position": null,
      "order": null,
      "overflow": null,
      "overflow_x": null,
      "overflow_y": null,
      "padding": null,
      "right": null,
      "top": null,
      "visibility": null,
      "width": null
     }
    },
    "093979967c0940dcb2ff3b250b8407ea": {
     "model_module": "@jupyter-widgets/controls",
     "model_module_version": "1.5.0",
     "model_name": "HTMLModel",
     "state": {
      "_dom_classes": [],
      "_model_module": "@jupyter-widgets/controls",
      "_model_module_version": "1.5.0",
      "_model_name": "HTMLModel",
      "_view_count": null,
      "_view_module": "@jupyter-widgets/controls",
      "_view_module_version": "1.5.0",
      "_view_name": "HTMLView",
      "description": "",
      "description_tooltip": null,
      "layout": "IPY_MODEL_c0dee6ab51014b3c831ab1c786f3c9fc",
      "placeholder": "​",
      "style": "IPY_MODEL_7c29ca94036e4a508847c1ed70fa5d03",
      "value": " 190/190 [00:00&lt;00:00, 3.42kB/s]"
     }
    },
    "09437aee9cbb4176b644c48a84762623": {
     "model_module": "@jupyter-widgets/controls",
     "model_module_version": "1.5.0",
     "model_name": "DescriptionStyleModel",
     "state": {
      "_model_module": "@jupyter-widgets/controls",
      "_model_module_version": "1.5.0",
      "_model_name": "DescriptionStyleModel",
      "_view_count": null,
      "_view_module": "@jupyter-widgets/base",
      "_view_module_version": "1.2.0",
      "_view_name": "StyleView",
      "description_width": ""
     }
    },
    "0972e4f0ea3b4997b544715ce901c587": {
     "model_module": "@jupyter-widgets/base",
     "model_module_version": "1.2.0",
     "model_name": "LayoutModel",
     "state": {
      "_model_module": "@jupyter-widgets/base",
      "_model_module_version": "1.2.0",
      "_model_name": "LayoutModel",
      "_view_count": null,
      "_view_module": "@jupyter-widgets/base",
      "_view_module_version": "1.2.0",
      "_view_name": "LayoutView",
      "align_content": null,
      "align_items": null,
      "align_self": null,
      "border": null,
      "bottom": null,
      "display": null,
      "flex": null,
      "flex_flow": null,
      "grid_area": null,
      "grid_auto_columns": null,
      "grid_auto_flow": null,
      "grid_auto_rows": null,
      "grid_column": null,
      "grid_gap": null,
      "grid_row": null,
      "grid_template_areas": null,
      "grid_template_columns": null,
      "grid_template_rows": null,
      "height": null,
      "justify_content": null,
      "justify_items": null,
      "left": null,
      "margin": null,
      "max_height": null,
      "max_width": null,
      "min_height": null,
      "min_width": null,
      "object_fit": null,
      "object_position": null,
      "order": null,
      "overflow": null,
      "overflow_x": null,
      "overflow_y": null,
      "padding": null,
      "right": null,
      "top": null,
      "visibility": null,
      "width": null
     }
    },
    "0bddab4f97e14d17b1d9ab8b6c8ea0b7": {
     "model_module": "@jupyter-widgets/controls",
     "model_module_version": "1.5.0",
     "model_name": "HTMLModel",
     "state": {
      "_dom_classes": [],
      "_model_module": "@jupyter-widgets/controls",
      "_model_module_version": "1.5.0",
      "_model_name": "HTMLModel",
      "_view_count": null,
      "_view_module": "@jupyter-widgets/controls",
      "_view_module_version": "1.5.0",
      "_view_name": "HTMLView",
      "description": "",
      "description_tooltip": null,
      "layout": "IPY_MODEL_893e4ec828cd49a28cf50686b58ed959",
      "placeholder": "​",
      "style": "IPY_MODEL_9212576967fb4b4584e8f10071ab8307",
      "value": " 90.9M/90.9M [00:04&lt;00:00, 19.7MB/s]"
     }
    },
    "0c0f3f63737c44e9bfa1dc7eeabc2f62": {
     "model_module": "@jupyter-widgets/base",
     "model_module_version": "1.2.0",
     "model_name": "LayoutModel",
     "state": {
      "_model_module": "@jupyter-widgets/base",
      "_model_module_version": "1.2.0",
      "_model_name": "LayoutModel",
      "_view_count": null,
      "_view_module": "@jupyter-widgets/base",
      "_view_module_version": "1.2.0",
      "_view_name": "LayoutView",
      "align_content": null,
      "align_items": null,
      "align_self": null,
      "border": null,
      "bottom": null,
      "display": null,
      "flex": null,
      "flex_flow": null,
      "grid_area": null,
      "grid_auto_columns": null,
      "grid_auto_flow": null,
      "grid_auto_rows": null,
      "grid_column": null,
      "grid_gap": null,
      "grid_row": null,
      "grid_template_areas": null,
      "grid_template_columns": null,
      "grid_template_rows": null,
      "height": null,
      "justify_content": null,
      "justify_items": null,
      "left": null,
      "margin": null,
      "max_height": null,
      "max_width": null,
      "min_height": null,
      "min_width": null,
      "object_fit": null,
      "object_position": null,
      "order": null,
      "overflow": null,
      "overflow_x": null,
      "overflow_y": null,
      "padding": null,
      "right": null,
      "top": null,
      "visibility": null,
      "width": null
     }
    },
    "0cebe842308e44819bde78c2d5e748b5": {
     "model_module": "@jupyter-widgets/base",
     "model_module_version": "1.2.0",
     "model_name": "LayoutModel",
     "state": {
      "_model_module": "@jupyter-widgets/base",
      "_model_module_version": "1.2.0",
      "_model_name": "LayoutModel",
      "_view_count": null,
      "_view_module": "@jupyter-widgets/base",
      "_view_module_version": "1.2.0",
      "_view_name": "LayoutView",
      "align_content": null,
      "align_items": null,
      "align_self": null,
      "border": null,
      "bottom": null,
      "display": null,
      "flex": null,
      "flex_flow": null,
      "grid_area": null,
      "grid_auto_columns": null,
      "grid_auto_flow": null,
      "grid_auto_rows": null,
      "grid_column": null,
      "grid_gap": null,
      "grid_row": null,
      "grid_template_areas": null,
      "grid_template_columns": null,
      "grid_template_rows": null,
      "height": null,
      "justify_content": null,
      "justify_items": null,
      "left": null,
      "margin": null,
      "max_height": null,
      "max_width": null,
      "min_height": null,
      "min_width": null,
      "object_fit": null,
      "object_position": null,
      "order": null,
      "overflow": null,
      "overflow_x": null,
      "overflow_y": null,
      "padding": null,
      "right": null,
      "top": null,
      "visibility": null,
      "width": null
     }
    },
    "0da287d5c2e343caa85870e6081a1850": {
     "model_module": "@jupyter-widgets/base",
     "model_module_version": "1.2.0",
     "model_name": "LayoutModel",
     "state": {
      "_model_module": "@jupyter-widgets/base",
      "_model_module_version": "1.2.0",
      "_model_name": "LayoutModel",
      "_view_count": null,
      "_view_module": "@jupyter-widgets/base",
      "_view_module_version": "1.2.0",
      "_view_name": "LayoutView",
      "align_content": null,
      "align_items": null,
      "align_self": null,
      "border": null,
      "bottom": null,
      "display": null,
      "flex": null,
      "flex_flow": null,
      "grid_area": null,
      "grid_auto_columns": null,
      "grid_auto_flow": null,
      "grid_auto_rows": null,
      "grid_column": null,
      "grid_gap": null,
      "grid_row": null,
      "grid_template_areas": null,
      "grid_template_columns": null,
      "grid_template_rows": null,
      "height": null,
      "justify_content": null,
      "justify_items": null,
      "left": null,
      "margin": null,
      "max_height": null,
      "max_width": null,
      "min_height": null,
      "min_width": null,
      "object_fit": null,
      "object_position": null,
      "order": null,
      "overflow": null,
      "overflow_x": null,
      "overflow_y": null,
      "padding": null,
      "right": null,
      "top": null,
      "visibility": null,
      "width": null
     }
    },
    "0f521bffbd414fd7a2e628987f7190a1": {
     "model_module": "@jupyter-widgets/controls",
     "model_module_version": "1.5.0",
     "model_name": "DescriptionStyleModel",
     "state": {
      "_model_module": "@jupyter-widgets/controls",
      "_model_module_version": "1.5.0",
      "_model_name": "DescriptionStyleModel",
      "_view_count": null,
      "_view_module": "@jupyter-widgets/base",
      "_view_module_version": "1.2.0",
      "_view_name": "StyleView",
      "description_width": ""
     }
    },
    "1359e3e24c5548449adc1ac09c233f58": {
     "model_module": "@jupyter-widgets/controls",
     "model_module_version": "1.5.0",
     "model_name": "FloatProgressModel",
     "state": {
      "_dom_classes": [],
      "_model_module": "@jupyter-widgets/controls",
      "_model_module_version": "1.5.0",
      "_model_name": "FloatProgressModel",
      "_view_count": null,
      "_view_module": "@jupyter-widgets/controls",
      "_view_module_version": "1.5.0",
      "_view_name": "ProgressView",
      "bar_style": "success",
      "description": "",
      "description_tooltip": null,
      "layout": "IPY_MODEL_96f00533e0654fdabe1cd9ca062c8d8c",
      "max": 3693,
      "min": 0,
      "orientation": "horizontal",
      "style": "IPY_MODEL_da03d9f4ce154232ba29ded755c4d897",
      "value": 3693
     }
    },
    "13edfe90ae2d43bdb62830000de4f138": {
     "model_module": "@jupyter-widgets/controls",
     "model_module_version": "1.5.0",
     "model_name": "HBoxModel",
     "state": {
      "_dom_classes": [],
      "_model_module": "@jupyter-widgets/controls",
      "_model_module_version": "1.5.0",
      "_model_name": "HBoxModel",
      "_view_count": null,
      "_view_module": "@jupyter-widgets/controls",
      "_view_module_version": "1.5.0",
      "_view_name": "HBoxView",
      "box_style": "",
      "children": [
       "IPY_MODEL_42f6e0c0a6574ca483f8298ac9fa85a3",
       "IPY_MODEL_fa65e7cba649497a8d4d70a2e3814e74",
       "IPY_MODEL_8db5ef6ba38348a0bcbffb55a286460e"
      ],
      "layout": "IPY_MODEL_89df279064954b8895721fd7964f9a15"
     }
    },
    "155594088efc476194539dde3f0ae9bd": {
     "model_module": "@jupyter-widgets/controls",
     "model_module_version": "1.5.0",
     "model_name": "DescriptionStyleModel",
     "state": {
      "_model_module": "@jupyter-widgets/controls",
      "_model_module_version": "1.5.0",
      "_model_name": "DescriptionStyleModel",
      "_view_count": null,
      "_view_module": "@jupyter-widgets/base",
      "_view_module_version": "1.2.0",
      "_view_name": "StyleView",
      "description_width": ""
     }
    },
    "15a75b1560da4f1e8ec1b22c92b47c28": {
     "model_module": "@jupyter-widgets/base",
     "model_module_version": "1.2.0",
     "model_name": "LayoutModel",
     "state": {
      "_model_module": "@jupyter-widgets/base",
      "_model_module_version": "1.2.0",
      "_model_name": "LayoutModel",
      "_view_count": null,
      "_view_module": "@jupyter-widgets/base",
      "_view_module_version": "1.2.0",
      "_view_name": "LayoutView",
      "align_content": null,
      "align_items": null,
      "align_self": null,
      "border": null,
      "bottom": null,
      "display": null,
      "flex": null,
      "flex_flow": null,
      "grid_area": null,
      "grid_auto_columns": null,
      "grid_auto_flow": null,
      "grid_auto_rows": null,
      "grid_column": null,
      "grid_gap": null,
      "grid_row": null,
      "grid_template_areas": null,
      "grid_template_columns": null,
      "grid_template_rows": null,
      "height": null,
      "justify_content": null,
      "justify_items": null,
      "left": null,
      "margin": null,
      "max_height": null,
      "max_width": null,
      "min_height": null,
      "min_width": null,
      "object_fit": null,
      "object_position": null,
      "order": null,
      "overflow": null,
      "overflow_x": null,
      "overflow_y": null,
      "padding": null,
      "right": null,
      "top": null,
      "visibility": null,
      "width": null
     }
    },
    "1610c9581a4a44c7aab7fe3245b9841d": {
     "model_module": "@jupyter-widgets/controls",
     "model_module_version": "1.5.0",
     "model_name": "FloatProgressModel",
     "state": {
      "_dom_classes": [],
      "_model_module": "@jupyter-widgets/controls",
      "_model_module_version": "1.5.0",
      "_model_name": "FloatProgressModel",
      "_view_count": null,
      "_view_module": "@jupyter-widgets/controls",
      "_view_module_version": "1.5.0",
      "_view_name": "ProgressView",
      "bar_style": "success",
      "description": "",
      "description_tooltip": null,
      "layout": "IPY_MODEL_2692f40431b3498383336cb765e1bc47",
      "max": 90895153,
      "min": 0,
      "orientation": "horizontal",
      "style": "IPY_MODEL_6d047276b107421296e68ee202591f2e",
      "value": 90895153
     }
    },
    "1b92abf0712046838e6c926798bcd498": {
     "model_module": "@jupyter-widgets/controls",
     "model_module_version": "1.5.0",
     "model_name": "HBoxModel",
     "state": {
      "_dom_classes": [],
      "_model_module": "@jupyter-widgets/controls",
      "_model_module_version": "1.5.0",
      "_model_name": "HBoxModel",
      "_view_count": null,
      "_view_module": "@jupyter-widgets/controls",
      "_view_module_version": "1.5.0",
      "_view_name": "HBoxView",
      "box_style": "",
      "children": [
       "IPY_MODEL_88a6f0d53527498ea50cdada043ce5f9",
       "IPY_MODEL_69f1284fb1bb4a0ca5b2773da4153e00",
       "IPY_MODEL_5a9efc2bea7447aebb71f745ed08055b"
      ],
      "layout": "IPY_MODEL_8d8f5bb51ef0459986ca4ab6b9c767c6"
     }
    },
    "1bad6b1ba48149c0b1242231c240a695": {
     "model_module": "@jupyter-widgets/controls",
     "model_module_version": "1.5.0",
     "model_name": "HTMLModel",
     "state": {
      "_dom_classes": [],
      "_model_module": "@jupyter-widgets/controls",
      "_model_module_version": "1.5.0",
      "_model_name": "HTMLModel",
      "_view_count": null,
      "_view_module": "@jupyter-widgets/controls",
      "_view_module_version": "1.5.0",
      "_view_name": "HTMLView",
      "description": "",
      "description_tooltip": null,
      "layout": "IPY_MODEL_73b96b97772e4d74aa10f21fcb799391",
      "placeholder": "​",
      "style": "IPY_MODEL_1eeda01ad6b549789d02fe8414584a0a",
      "value": " 690/690 [00:00&lt;00:00, 7.53kB/s]"
     }
    },
    "1bce587ec256409da04211433e9dd3c1": {
     "model_module": "@jupyter-widgets/controls",
     "model_module_version": "1.5.0",
     "model_name": "DescriptionStyleModel",
     "state": {
      "_model_module": "@jupyter-widgets/controls",
      "_model_module_version": "1.5.0",
      "_model_name": "DescriptionStyleModel",
      "_view_count": null,
      "_view_module": "@jupyter-widgets/base",
      "_view_module_version": "1.2.0",
      "_view_name": "StyleView",
      "description_width": ""
     }
    },
    "1cd38f7aedb44300bafe436c59b9a8bd": {
     "model_module": "@jupyter-widgets/base",
     "model_module_version": "1.2.0",
     "model_name": "LayoutModel",
     "state": {
      "_model_module": "@jupyter-widgets/base",
      "_model_module_version": "1.2.0",
      "_model_name": "LayoutModel",
      "_view_count": null,
      "_view_module": "@jupyter-widgets/base",
      "_view_module_version": "1.2.0",
      "_view_name": "LayoutView",
      "align_content": null,
      "align_items": null,
      "align_self": null,
      "border": null,
      "bottom": null,
      "display": null,
      "flex": null,
      "flex_flow": null,
      "grid_area": null,
      "grid_auto_columns": null,
      "grid_auto_flow": null,
      "grid_auto_rows": null,
      "grid_column": null,
      "grid_gap": null,
      "grid_row": null,
      "grid_template_areas": null,
      "grid_template_columns": null,
      "grid_template_rows": null,
      "height": null,
      "justify_content": null,
      "justify_items": null,
      "left": null,
      "margin": null,
      "max_height": null,
      "max_width": null,
      "min_height": null,
      "min_width": null,
      "object_fit": null,
      "object_position": null,
      "order": null,
      "overflow": null,
      "overflow_x": null,
      "overflow_y": null,
      "padding": null,
      "right": null,
      "top": null,
      "visibility": null,
      "width": null
     }
    },
    "1ced4ed1341d410da0835e8a699c3617": {
     "model_module": "@jupyter-widgets/base",
     "model_module_version": "1.2.0",
     "model_name": "LayoutModel",
     "state": {
      "_model_module": "@jupyter-widgets/base",
      "_model_module_version": "1.2.0",
      "_model_name": "LayoutModel",
      "_view_count": null,
      "_view_module": "@jupyter-widgets/base",
      "_view_module_version": "1.2.0",
      "_view_name": "LayoutView",
      "align_content": null,
      "align_items": null,
      "align_self": null,
      "border": null,
      "bottom": null,
      "display": null,
      "flex": null,
      "flex_flow": null,
      "grid_area": null,
      "grid_auto_columns": null,
      "grid_auto_flow": null,
      "grid_auto_rows": null,
      "grid_column": null,
      "grid_gap": null,
      "grid_row": null,
      "grid_template_areas": null,
      "grid_template_columns": null,
      "grid_template_rows": null,
      "height": null,
      "justify_content": null,
      "justify_items": null,
      "left": null,
      "margin": null,
      "max_height": null,
      "max_width": null,
      "min_height": null,
      "min_width": null,
      "object_fit": null,
      "object_position": null,
      "order": null,
      "overflow": null,
      "overflow_x": null,
      "overflow_y": null,
      "padding": null,
      "right": null,
      "top": null,
      "visibility": null,
      "width": null
     }
    },
    "1d52003493a64fd39236a4daca4c5113": {
     "model_module": "@jupyter-widgets/controls",
     "model_module_version": "1.5.0",
     "model_name": "HTMLModel",
     "state": {
      "_dom_classes": [],
      "_model_module": "@jupyter-widgets/controls",
      "_model_module_version": "1.5.0",
      "_model_name": "HTMLModel",
      "_view_count": null,
      "_view_module": "@jupyter-widgets/controls",
      "_view_module_version": "1.5.0",
      "_view_name": "HTMLView",
      "description": "",
      "description_tooltip": null,
      "layout": "IPY_MODEL_003bf6be527a4a5993dac133e8beaa23",
      "placeholder": "​",
      "style": "IPY_MODEL_1bce587ec256409da04211433e9dd3c1",
      "value": "Downloading: 100%"
     }
    },
    "1eeda01ad6b549789d02fe8414584a0a": {
     "model_module": "@jupyter-widgets/controls",
     "model_module_version": "1.5.0",
     "model_name": "DescriptionStyleModel",
     "state": {
      "_model_module": "@jupyter-widgets/controls",
      "_model_module_version": "1.5.0",
      "_model_name": "DescriptionStyleModel",
      "_view_count": null,
      "_view_module": "@jupyter-widgets/base",
      "_view_module_version": "1.2.0",
      "_view_name": "StyleView",
      "description_width": ""
     }
    },
    "260ae4b8e4de405492d93f2f4111cba4": {
     "model_module": "@jupyter-widgets/controls",
     "model_module_version": "1.5.0",
     "model_name": "DescriptionStyleModel",
     "state": {
      "_model_module": "@jupyter-widgets/controls",
      "_model_module_version": "1.5.0",
      "_model_name": "DescriptionStyleModel",
      "_view_count": null,
      "_view_module": "@jupyter-widgets/base",
      "_view_module_version": "1.2.0",
      "_view_name": "StyleView",
      "description_width": ""
     }
    },
    "2692f40431b3498383336cb765e1bc47": {
     "model_module": "@jupyter-widgets/base",
     "model_module_version": "1.2.0",
     "model_name": "LayoutModel",
     "state": {
      "_model_module": "@jupyter-widgets/base",
      "_model_module_version": "1.2.0",
      "_model_name": "LayoutModel",
      "_view_count": null,
      "_view_module": "@jupyter-widgets/base",
      "_view_module_version": "1.2.0",
      "_view_name": "LayoutView",
      "align_content": null,
      "align_items": null,
      "align_self": null,
      "border": null,
      "bottom": null,
      "display": null,
      "flex": null,
      "flex_flow": null,
      "grid_area": null,
      "grid_auto_columns": null,
      "grid_auto_flow": null,
      "grid_auto_rows": null,
      "grid_column": null,
      "grid_gap": null,
      "grid_row": null,
      "grid_template_areas": null,
      "grid_template_columns": null,
      "grid_template_rows": null,
      "height": null,
      "justify_content": null,
      "justify_items": null,
      "left": null,
      "margin": null,
      "max_height": null,
      "max_width": null,
      "min_height": null,
      "min_width": null,
      "object_fit": null,
      "object_position": null,
      "order": null,
      "overflow": null,
      "overflow_x": null,
      "overflow_y": null,
      "padding": null,
      "right": null,
      "top": null,
      "visibility": null,
      "width": null
     }
    },
    "279fb4004a7d4442923b63b1a489c3fb": {
     "model_module": "@jupyter-widgets/controls",
     "model_module_version": "1.5.0",
     "model_name": "ProgressStyleModel",
     "state": {
      "_model_module": "@jupyter-widgets/controls",
      "_model_module_version": "1.5.0",
      "_model_name": "ProgressStyleModel",
      "_view_count": null,
      "_view_module": "@jupyter-widgets/base",
      "_view_module_version": "1.2.0",
      "_view_name": "StyleView",
      "bar_color": null,
      "description_width": ""
     }
    },
    "288abe669b284588b7e6c169c34b51ca": {
     "model_module": "@jupyter-widgets/base",
     "model_module_version": "1.2.0",
     "model_name": "LayoutModel",
     "state": {
      "_model_module": "@jupyter-widgets/base",
      "_model_module_version": "1.2.0",
      "_model_name": "LayoutModel",
      "_view_count": null,
      "_view_module": "@jupyter-widgets/base",
      "_view_module_version": "1.2.0",
      "_view_name": "LayoutView",
      "align_content": null,
      "align_items": null,
      "align_self": null,
      "border": null,
      "bottom": null,
      "display": null,
      "flex": null,
      "flex_flow": null,
      "grid_area": null,
      "grid_auto_columns": null,
      "grid_auto_flow": null,
      "grid_auto_rows": null,
      "grid_column": null,
      "grid_gap": null,
      "grid_row": null,
      "grid_template_areas": null,
      "grid_template_columns": null,
      "grid_template_rows": null,
      "height": null,
      "justify_content": null,
      "justify_items": null,
      "left": null,
      "margin": null,
      "max_height": null,
      "max_width": null,
      "min_height": null,
      "min_width": null,
      "object_fit": null,
      "object_position": null,
      "order": null,
      "overflow": null,
      "overflow_x": null,
      "overflow_y": null,
      "padding": null,
      "right": null,
      "top": null,
      "visibility": null,
      "width": null
     }
    },
    "2c969d5280d3409c80724a6f116877b4": {
     "model_module": "@jupyter-widgets/base",
     "model_module_version": "1.2.0",
     "model_name": "LayoutModel",
     "state": {
      "_model_module": "@jupyter-widgets/base",
      "_model_module_version": "1.2.0",
      "_model_name": "LayoutModel",
      "_view_count": null,
      "_view_module": "@jupyter-widgets/base",
      "_view_module_version": "1.2.0",
      "_view_name": "LayoutView",
      "align_content": null,
      "align_items": null,
      "align_self": null,
      "border": null,
      "bottom": null,
      "display": null,
      "flex": null,
      "flex_flow": null,
      "grid_area": null,
      "grid_auto_columns": null,
      "grid_auto_flow": null,
      "grid_auto_rows": null,
      "grid_column": null,
      "grid_gap": null,
      "grid_row": null,
      "grid_template_areas": null,
      "grid_template_columns": null,
      "grid_template_rows": null,
      "height": null,
      "justify_content": null,
      "justify_items": null,
      "left": null,
      "margin": null,
      "max_height": null,
      "max_width": null,
      "min_height": null,
      "min_width": null,
      "object_fit": null,
      "object_position": null,
      "order": null,
      "overflow": null,
      "overflow_x": null,
      "overflow_y": null,
      "padding": null,
      "right": null,
      "top": null,
      "visibility": null,
      "width": null
     }
    },
    "2ca914c08a2f4795a55d5454613388b4": {
     "model_module": "@jupyter-widgets/base",
     "model_module_version": "1.2.0",
     "model_name": "LayoutModel",
     "state": {
      "_model_module": "@jupyter-widgets/base",
      "_model_module_version": "1.2.0",
      "_model_name": "LayoutModel",
      "_view_count": null,
      "_view_module": "@jupyter-widgets/base",
      "_view_module_version": "1.2.0",
      "_view_name": "LayoutView",
      "align_content": null,
      "align_items": null,
      "align_self": null,
      "border": null,
      "bottom": null,
      "display": null,
      "flex": null,
      "flex_flow": null,
      "grid_area": null,
      "grid_auto_columns": null,
      "grid_auto_flow": null,
      "grid_auto_rows": null,
      "grid_column": null,
      "grid_gap": null,
      "grid_row": null,
      "grid_template_areas": null,
      "grid_template_columns": null,
      "grid_template_rows": null,
      "height": null,
      "justify_content": null,
      "justify_items": null,
      "left": null,
      "margin": null,
      "max_height": null,
      "max_width": null,
      "min_height": null,
      "min_width": null,
      "object_fit": null,
      "object_position": null,
      "order": null,
      "overflow": null,
      "overflow_x": null,
      "overflow_y": null,
      "padding": null,
      "right": null,
      "top": null,
      "visibility": null,
      "width": null
     }
    },
    "334f6d85e9d4449cbb586a4515e4ac0e": {
     "model_module": "@jupyter-widgets/base",
     "model_module_version": "1.2.0",
     "model_name": "LayoutModel",
     "state": {
      "_model_module": "@jupyter-widgets/base",
      "_model_module_version": "1.2.0",
      "_model_name": "LayoutModel",
      "_view_count": null,
      "_view_module": "@jupyter-widgets/base",
      "_view_module_version": "1.2.0",
      "_view_name": "LayoutView",
      "align_content": null,
      "align_items": null,
      "align_self": null,
      "border": null,
      "bottom": null,
      "display": null,
      "flex": null,
      "flex_flow": null,
      "grid_area": null,
      "grid_auto_columns": null,
      "grid_auto_flow": null,
      "grid_auto_rows": null,
      "grid_column": null,
      "grid_gap": null,
      "grid_row": null,
      "grid_template_areas": null,
      "grid_template_columns": null,
      "grid_template_rows": null,
      "height": null,
      "justify_content": null,
      "justify_items": null,
      "left": null,
      "margin": null,
      "max_height": null,
      "max_width": null,
      "min_height": null,
      "min_width": null,
      "object_fit": null,
      "object_position": null,
      "order": null,
      "overflow": null,
      "overflow_x": null,
      "overflow_y": null,
      "padding": null,
      "right": null,
      "top": null,
      "visibility": null,
      "width": null
     }
    },
    "34367d757b7a4979b5418808e47c9eaf": {
     "model_module": "@jupyter-widgets/controls",
     "model_module_version": "1.5.0",
     "model_name": "HBoxModel",
     "state": {
      "_dom_classes": [],
      "_model_module": "@jupyter-widgets/controls",
      "_model_module_version": "1.5.0",
      "_model_name": "HBoxModel",
      "_view_count": null,
      "_view_module": "@jupyter-widgets/controls",
      "_view_module_version": "1.5.0",
      "_view_name": "HBoxView",
      "box_style": "",
      "children": [
       "IPY_MODEL_eadcc53ab0e2440883f25f9f85540f4e",
       "IPY_MODEL_74ba7f43a63e459fafbcc2d1a52785c6",
       "IPY_MODEL_9e5a1dbefa16483cb0105517d0f7a893"
      ],
      "layout": "IPY_MODEL_be3e1529bedc438a8f4eba5a361d843b"
     }
    },
    "3557b83d935c4861980d2a103e3dfca2": {
     "model_module": "@jupyter-widgets/base",
     "model_module_version": "1.2.0",
     "model_name": "LayoutModel",
     "state": {
      "_model_module": "@jupyter-widgets/base",
      "_model_module_version": "1.2.0",
      "_model_name": "LayoutModel",
      "_view_count": null,
      "_view_module": "@jupyter-widgets/base",
      "_view_module_version": "1.2.0",
      "_view_name": "LayoutView",
      "align_content": null,
      "align_items": null,
      "align_self": null,
      "border": null,
      "bottom": null,
      "display": null,
      "flex": null,
      "flex_flow": null,
      "grid_area": null,
      "grid_auto_columns": null,
      "grid_auto_flow": null,
      "grid_auto_rows": null,
      "grid_column": null,
      "grid_gap": null,
      "grid_row": null,
      "grid_template_areas": null,
      "grid_template_columns": null,
      "grid_template_rows": null,
      "height": null,
      "justify_content": null,
      "justify_items": null,
      "left": null,
      "margin": null,
      "max_height": null,
      "max_width": null,
      "min_height": null,
      "min_width": null,
      "object_fit": null,
      "object_position": null,
      "order": null,
      "overflow": null,
      "overflow_x": null,
      "overflow_y": null,
      "padding": null,
      "right": null,
      "top": null,
      "visibility": null,
      "width": null
     }
    },
    "3821dcc9e62444b58e119c3812035e58": {
     "model_module": "@jupyter-widgets/controls",
     "model_module_version": "1.5.0",
     "model_name": "DescriptionStyleModel",
     "state": {
      "_model_module": "@jupyter-widgets/controls",
      "_model_module_version": "1.5.0",
      "_model_name": "DescriptionStyleModel",
      "_view_count": null,
      "_view_module": "@jupyter-widgets/base",
      "_view_module_version": "1.2.0",
      "_view_name": "StyleView",
      "description_width": ""
     }
    },
    "3f344d419f2243dea49d8f5484cc8aaf": {
     "model_module": "@jupyter-widgets/controls",
     "model_module_version": "1.5.0",
     "model_name": "HBoxModel",
     "state": {
      "_dom_classes": [],
      "_model_module": "@jupyter-widgets/controls",
      "_model_module_version": "1.5.0",
      "_model_name": "HBoxModel",
      "_view_count": null,
      "_view_module": "@jupyter-widgets/controls",
      "_view_module_version": "1.5.0",
      "_view_name": "HBoxView",
      "box_style": "",
      "children": [
       "IPY_MODEL_6bf0b5b25466480bac00ab79f26e5daa",
       "IPY_MODEL_7406550455e14211901f453c59b075db",
       "IPY_MODEL_c18fc00a093445cc9b5c8664a434d736"
      ],
      "layout": "IPY_MODEL_2c969d5280d3409c80724a6f116877b4"
     }
    },
    "42f6e0c0a6574ca483f8298ac9fa85a3": {
     "model_module": "@jupyter-widgets/controls",
     "model_module_version": "1.5.0",
     "model_name": "HTMLModel",
     "state": {
      "_dom_classes": [],
      "_model_module": "@jupyter-widgets/controls",
      "_model_module_version": "1.5.0",
      "_model_name": "HTMLModel",
      "_view_count": null,
      "_view_module": "@jupyter-widgets/controls",
      "_view_module_version": "1.5.0",
      "_view_name": "HTMLView",
      "description": "",
      "description_tooltip": null,
      "layout": "IPY_MODEL_689559e96d9d4ada94c6fba7f7dfa5f0",
      "placeholder": "​",
      "style": "IPY_MODEL_09437aee9cbb4176b644c48a84762623",
      "value": "Downloading: 100%"
     }
    },
    "44fcdec5a44b429a99cd747c8ff77d0e": {
     "model_module": "@jupyter-widgets/controls",
     "model_module_version": "1.5.0",
     "model_name": "HTMLModel",
     "state": {
      "_dom_classes": [],
      "_model_module": "@jupyter-widgets/controls",
      "_model_module_version": "1.5.0",
      "_model_name": "HTMLModel",
      "_view_count": null,
      "_view_module": "@jupyter-widgets/controls",
      "_view_module_version": "1.5.0",
      "_view_name": "HTMLView",
      "description": "",
      "description_tooltip": null,
      "layout": "IPY_MODEL_1ced4ed1341d410da0835e8a699c3617",
      "placeholder": "​",
      "style": "IPY_MODEL_859fb31afbeb46b69f9be25880509785",
      "value": "Downloading: 100%"
     }
    },
    "468babd377b64dca9ef113d53fabf6ec": {
     "model_module": "@jupyter-widgets/base",
     "model_module_version": "1.2.0",
     "model_name": "LayoutModel",
     "state": {
      "_model_module": "@jupyter-widgets/base",
      "_model_module_version": "1.2.0",
      "_model_name": "LayoutModel",
      "_view_count": null,
      "_view_module": "@jupyter-widgets/base",
      "_view_module_version": "1.2.0",
      "_view_name": "LayoutView",
      "align_content": null,
      "align_items": null,
      "align_self": null,
      "border": null,
      "bottom": null,
      "display": null,
      "flex": null,
      "flex_flow": null,
      "grid_area": null,
      "grid_auto_columns": null,
      "grid_auto_flow": null,
      "grid_auto_rows": null,
      "grid_column": null,
      "grid_gap": null,
      "grid_row": null,
      "grid_template_areas": null,
      "grid_template_columns": null,
      "grid_template_rows": null,
      "height": null,
      "justify_content": null,
      "justify_items": null,
      "left": null,
      "margin": null,
      "max_height": null,
      "max_width": null,
      "min_height": null,
      "min_width": null,
      "object_fit": null,
      "object_position": null,
      "order": null,
      "overflow": null,
      "overflow_x": null,
      "overflow_y": null,
      "padding": null,
      "right": null,
      "top": null,
      "visibility": null,
      "width": null
     }
    },
    "47695543daae4ab481a5e9d9a5f76b42": {
     "model_module": "@jupyter-widgets/controls",
     "model_module_version": "1.5.0",
     "model_name": "FloatProgressModel",
     "state": {
      "_dom_classes": [],
      "_model_module": "@jupyter-widgets/controls",
      "_model_module_version": "1.5.0",
      "_model_name": "FloatProgressModel",
      "_view_count": null,
      "_view_module": "@jupyter-widgets/controls",
      "_view_module_version": "1.5.0",
      "_view_name": "ProgressView",
      "bar_style": "success",
      "description": "",
      "description_tooltip": null,
      "layout": "IPY_MODEL_0cebe842308e44819bde78c2d5e748b5",
      "max": 629,
      "min": 0,
      "orientation": "horizontal",
      "style": "IPY_MODEL_279fb4004a7d4442923b63b1a489c3fb",
      "value": 629
     }
    },
    "48f9ad4943be4830b57fda806967c329": {
     "model_module": "@jupyter-widgets/base",
     "model_module_version": "1.2.0",
     "model_name": "LayoutModel",
     "state": {
      "_model_module": "@jupyter-widgets/base",
      "_model_module_version": "1.2.0",
      "_model_name": "LayoutModel",
      "_view_count": null,
      "_view_module": "@jupyter-widgets/base",
      "_view_module_version": "1.2.0",
      "_view_name": "LayoutView",
      "align_content": null,
      "align_items": null,
      "align_self": null,
      "border": null,
      "bottom": null,
      "display": null,
      "flex": null,
      "flex_flow": null,
      "grid_area": null,
      "grid_auto_columns": null,
      "grid_auto_flow": null,
      "grid_auto_rows": null,
      "grid_column": null,
      "grid_gap": null,
      "grid_row": null,
      "grid_template_areas": null,
      "grid_template_columns": null,
      "grid_template_rows": null,
      "height": null,
      "justify_content": null,
      "justify_items": null,
      "left": null,
      "margin": null,
      "max_height": null,
      "max_width": null,
      "min_height": null,
      "min_width": null,
      "object_fit": null,
      "object_position": null,
      "order": null,
      "overflow": null,
      "overflow_x": null,
      "overflow_y": null,
      "padding": null,
      "right": null,
      "top": null,
      "visibility": null,
      "width": null
     }
    },
    "495448d55e7d45bbb0bac0f72f0516a6": {
     "model_module": "@jupyter-widgets/base",
     "model_module_version": "1.2.0",
     "model_name": "LayoutModel",
     "state": {
      "_model_module": "@jupyter-widgets/base",
      "_model_module_version": "1.2.0",
      "_model_name": "LayoutModel",
      "_view_count": null,
      "_view_module": "@jupyter-widgets/base",
      "_view_module_version": "1.2.0",
      "_view_name": "LayoutView",
      "align_content": null,
      "align_items": null,
      "align_self": null,
      "border": null,
      "bottom": null,
      "display": null,
      "flex": null,
      "flex_flow": null,
      "grid_area": null,
      "grid_auto_columns": null,
      "grid_auto_flow": null,
      "grid_auto_rows": null,
      "grid_column": null,
      "grid_gap": null,
      "grid_row": null,
      "grid_template_areas": null,
      "grid_template_columns": null,
      "grid_template_rows": null,
      "height": null,
      "justify_content": null,
      "justify_items": null,
      "left": null,
      "margin": null,
      "max_height": null,
      "max_width": null,
      "min_height": null,
      "min_width": null,
      "object_fit": null,
      "object_position": null,
      "order": null,
      "overflow": null,
      "overflow_x": null,
      "overflow_y": null,
      "padding": null,
      "right": null,
      "top": null,
      "visibility": null,
      "width": null
     }
    },
    "4f4dfb3044eb44bf8b65660f9dc1c270": {
     "model_module": "@jupyter-widgets/controls",
     "model_module_version": "1.5.0",
     "model_name": "DescriptionStyleModel",
     "state": {
      "_model_module": "@jupyter-widgets/controls",
      "_model_module_version": "1.5.0",
      "_model_name": "DescriptionStyleModel",
      "_view_count": null,
      "_view_module": "@jupyter-widgets/base",
      "_view_module_version": "1.2.0",
      "_view_name": "StyleView",
      "description_width": ""
     }
    },
    "5127f18128f747cebac0638db5fb10f8": {
     "model_module": "@jupyter-widgets/controls",
     "model_module_version": "1.5.0",
     "model_name": "DescriptionStyleModel",
     "state": {
      "_model_module": "@jupyter-widgets/controls",
      "_model_module_version": "1.5.0",
      "_model_name": "DescriptionStyleModel",
      "_view_count": null,
      "_view_module": "@jupyter-widgets/base",
      "_view_module_version": "1.2.0",
      "_view_name": "StyleView",
      "description_width": ""
     }
    },
    "516a8a9d7d7b467782682f938af07de0": {
     "model_module": "@jupyter-widgets/controls",
     "model_module_version": "1.5.0",
     "model_name": "HBoxModel",
     "state": {
      "_dom_classes": [],
      "_model_module": "@jupyter-widgets/controls",
      "_model_module_version": "1.5.0",
      "_model_name": "HBoxModel",
      "_view_count": null,
      "_view_module": "@jupyter-widgets/controls",
      "_view_module_version": "1.5.0",
      "_view_name": "HBoxView",
      "box_style": "",
      "children": [
       "IPY_MODEL_61671aaf85de4411abf71c294f585a8f",
       "IPY_MODEL_1359e3e24c5548449adc1ac09c233f58",
       "IPY_MODEL_ee027439786a42b8b64ad7c066c75bda"
      ],
      "layout": "IPY_MODEL_c95419d68d674b3ca6df3fa28bd9f77a"
     }
    },
    "535018ec5e874ae5b1166d83801b9c7e": {
     "model_module": "@jupyter-widgets/controls",
     "model_module_version": "1.5.0",
     "model_name": "HBoxModel",
     "state": {
      "_dom_classes": [],
      "_model_module": "@jupyter-widgets/controls",
      "_model_module_version": "1.5.0",
      "_model_name": "HBoxModel",
      "_view_count": null,
      "_view_module": "@jupyter-widgets/controls",
      "_view_module_version": "1.5.0",
      "_view_name": "HBoxView",
      "box_style": "",
      "children": [
       "IPY_MODEL_44fcdec5a44b429a99cd747c8ff77d0e",
       "IPY_MODEL_1610c9581a4a44c7aab7fe3245b9841d",
       "IPY_MODEL_0bddab4f97e14d17b1d9ab8b6c8ea0b7"
      ],
      "layout": "IPY_MODEL_2ca914c08a2f4795a55d5454613388b4"
     }
    },
    "557badff255d4e46af4f8046af787827": {
     "model_module": "@jupyter-widgets/controls",
     "model_module_version": "1.5.0",
     "model_name": "DescriptionStyleModel",
     "state": {
      "_model_module": "@jupyter-widgets/controls",
      "_model_module_version": "1.5.0",
      "_model_name": "DescriptionStyleModel",
      "_view_count": null,
      "_view_module": "@jupyter-widgets/base",
      "_view_module_version": "1.2.0",
      "_view_name": "StyleView",
      "description_width": ""
     }
    },
    "586bab9e85a04498a175bbc7ce8fae81": {
     "model_module": "@jupyter-widgets/controls",
     "model_module_version": "1.5.0",
     "model_name": "HTMLModel",
     "state": {
      "_dom_classes": [],
      "_model_module": "@jupyter-widgets/controls",
      "_model_module_version": "1.5.0",
      "_model_name": "HTMLModel",
      "_view_count": null,
      "_view_module": "@jupyter-widgets/controls",
      "_view_module_version": "1.5.0",
      "_view_name": "HTMLView",
      "description": "",
      "description_tooltip": null,
      "layout": "IPY_MODEL_630d1236a6cb43139623a598c82059cd",
      "placeholder": "​",
      "style": "IPY_MODEL_e79760df3092435188b02b2e7d1bbb53",
      "value": " 466k/466k [00:00&lt;00:00, 1.43MB/s]"
     }
    },
    "5a6696a6d67d40548c6548993ac6d725": {
     "model_module": "@jupyter-widgets/controls",
     "model_module_version": "1.5.0",
     "model_name": "DescriptionStyleModel",
     "state": {
      "_model_module": "@jupyter-widgets/controls",
      "_model_module_version": "1.5.0",
      "_model_name": "DescriptionStyleModel",
      "_view_count": null,
      "_view_module": "@jupyter-widgets/base",
      "_view_module_version": "1.2.0",
      "_view_name": "StyleView",
      "description_width": ""
     }
    },
    "5a9efc2bea7447aebb71f745ed08055b": {
     "model_module": "@jupyter-widgets/controls",
     "model_module_version": "1.5.0",
     "model_name": "HTMLModel",
     "state": {
      "_dom_classes": [],
      "_model_module": "@jupyter-widgets/controls",
      "_model_module_version": "1.5.0",
      "_model_name": "HTMLModel",
      "_view_count": null,
      "_view_module": "@jupyter-widgets/controls",
      "_view_module_version": "1.5.0",
      "_view_name": "HTMLView",
      "description": "",
      "description_tooltip": null,
      "layout": "IPY_MODEL_334f6d85e9d4449cbb586a4515e4ac0e",
      "placeholder": "​",
      "style": "IPY_MODEL_155594088efc476194539dde3f0ae9bd",
      "value": " 232k/232k [00:00&lt;00:00, 538kB/s]"
     }
    },
    "5b9ef34408984a26b3ae63381570352b": {
     "model_module": "@jupyter-widgets/controls",
     "model_module_version": "1.5.0",
     "model_name": "HTMLModel",
     "state": {
      "_dom_classes": [],
      "_model_module": "@jupyter-widgets/controls",
      "_model_module_version": "1.5.0",
      "_model_name": "HTMLModel",
      "_view_count": null,
      "_view_module": "@jupyter-widgets/controls",
      "_view_module_version": "1.5.0",
      "_view_name": "HTMLView",
      "description": "",
      "description_tooltip": null,
      "layout": "IPY_MODEL_db04afe11cbf47e7af8f0dee6a55d6fa",
      "placeholder": "​",
      "style": "IPY_MODEL_94d8dabdf93e4cdbaa48a75977224f12",
      "value": "Downloading: 100%"
     }
    },
    "5cdb5dd504b44ec6bb8cfd039d918f3a": {
     "model_module": "@jupyter-widgets/base",
     "model_module_version": "1.2.0",
     "model_name": "LayoutModel",
     "state": {
      "_model_module": "@jupyter-widgets/base",
      "_model_module_version": "1.2.0",
      "_model_name": "LayoutModel",
      "_view_count": null,
      "_view_module": "@jupyter-widgets/base",
      "_view_module_version": "1.2.0",
      "_view_name": "LayoutView",
      "align_content": null,
      "align_items": null,
      "align_self": null,
      "border": null,
      "bottom": null,
      "display": null,
      "flex": null,
      "flex_flow": null,
      "grid_area": null,
      "grid_auto_columns": null,
      "grid_auto_flow": null,
      "grid_auto_rows": null,
      "grid_column": null,
      "grid_gap": null,
      "grid_row": null,
      "grid_template_areas": null,
      "grid_template_columns": null,
      "grid_template_rows": null,
      "height": null,
      "justify_content": null,
      "justify_items": null,
      "left": null,
      "margin": null,
      "max_height": null,
      "max_width": null,
      "min_height": null,
      "min_width": null,
      "object_fit": null,
      "object_position": null,
      "order": null,
      "overflow": null,
      "overflow_x": null,
      "overflow_y": null,
      "padding": null,
      "right": null,
      "top": null,
      "visibility": null,
      "width": null
     }
    },
    "61671aaf85de4411abf71c294f585a8f": {
     "model_module": "@jupyter-widgets/controls",
     "model_module_version": "1.5.0",
     "model_name": "HTMLModel",
     "state": {
      "_dom_classes": [],
      "_model_module": "@jupyter-widgets/controls",
      "_model_module_version": "1.5.0",
      "_model_name": "HTMLModel",
      "_view_count": null,
      "_view_module": "@jupyter-widgets/controls",
      "_view_module_version": "1.5.0",
      "_view_name": "HTMLView",
      "description": "",
      "description_tooltip": null,
      "layout": "IPY_MODEL_f5780a74bb3140d2b03ef854622267e1",
      "placeholder": "​",
      "style": "IPY_MODEL_c6f97651bd0a4dbd8041579cf43da439",
      "value": "Downloading: 100%"
     }
    },
    "630d1236a6cb43139623a598c82059cd": {
     "model_module": "@jupyter-widgets/base",
     "model_module_version": "1.2.0",
     "model_name": "LayoutModel",
     "state": {
      "_model_module": "@jupyter-widgets/base",
      "_model_module_version": "1.2.0",
      "_model_name": "LayoutModel",
      "_view_count": null,
      "_view_module": "@jupyter-widgets/base",
      "_view_module_version": "1.2.0",
      "_view_name": "LayoutView",
      "align_content": null,
      "align_items": null,
      "align_self": null,
      "border": null,
      "bottom": null,
      "display": null,
      "flex": null,
      "flex_flow": null,
      "grid_area": null,
      "grid_auto_columns": null,
      "grid_auto_flow": null,
      "grid_auto_rows": null,
      "grid_column": null,
      "grid_gap": null,
      "grid_row": null,
      "grid_template_areas": null,
      "grid_template_columns": null,
      "grid_template_rows": null,
      "height": null,
      "justify_content": null,
      "justify_items": null,
      "left": null,
      "margin": null,
      "max_height": null,
      "max_width": null,
      "min_height": null,
      "min_width": null,
      "object_fit": null,
      "object_position": null,
      "order": null,
      "overflow": null,
      "overflow_x": null,
      "overflow_y": null,
      "padding": null,
      "right": null,
      "top": null,
      "visibility": null,
      "width": null
     }
    },
    "63bbbc1632fd4ebda486f1bd6c35f755": {
     "model_module": "@jupyter-widgets/base",
     "model_module_version": "1.2.0",
     "model_name": "LayoutModel",
     "state": {
      "_model_module": "@jupyter-widgets/base",
      "_model_module_version": "1.2.0",
      "_model_name": "LayoutModel",
      "_view_count": null,
      "_view_module": "@jupyter-widgets/base",
      "_view_module_version": "1.2.0",
      "_view_name": "LayoutView",
      "align_content": null,
      "align_items": null,
      "align_self": null,
      "border": null,
      "bottom": null,
      "display": null,
      "flex": null,
      "flex_flow": null,
      "grid_area": null,
      "grid_auto_columns": null,
      "grid_auto_flow": null,
      "grid_auto_rows": null,
      "grid_column": null,
      "grid_gap": null,
      "grid_row": null,
      "grid_template_areas": null,
      "grid_template_columns": null,
      "grid_template_rows": null,
      "height": null,
      "justify_content": null,
      "justify_items": null,
      "left": null,
      "margin": null,
      "max_height": null,
      "max_width": null,
      "min_height": null,
      "min_width": null,
      "object_fit": null,
      "object_position": null,
      "order": null,
      "overflow": null,
      "overflow_x": null,
      "overflow_y": null,
      "padding": null,
      "right": null,
      "top": null,
      "visibility": null,
      "width": null
     }
    },
    "64b9749bc2d84df8ad5cd734e0c6d2b2": {
     "model_module": "@jupyter-widgets/base",
     "model_module_version": "1.2.0",
     "model_name": "LayoutModel",
     "state": {
      "_model_module": "@jupyter-widgets/base",
      "_model_module_version": "1.2.0",
      "_model_name": "LayoutModel",
      "_view_count": null,
      "_view_module": "@jupyter-widgets/base",
      "_view_module_version": "1.2.0",
      "_view_name": "LayoutView",
      "align_content": null,
      "align_items": null,
      "align_self": null,
      "border": null,
      "bottom": null,
      "display": null,
      "flex": null,
      "flex_flow": null,
      "grid_area": null,
      "grid_auto_columns": null,
      "grid_auto_flow": null,
      "grid_auto_rows": null,
      "grid_column": null,
      "grid_gap": null,
      "grid_row": null,
      "grid_template_areas": null,
      "grid_template_columns": null,
      "grid_template_rows": null,
      "height": null,
      "justify_content": null,
      "justify_items": null,
      "left": null,
      "margin": null,
      "max_height": null,
      "max_width": null,
      "min_height": null,
      "min_width": null,
      "object_fit": null,
      "object_position": null,
      "order": null,
      "overflow": null,
      "overflow_x": null,
      "overflow_y": null,
      "padding": null,
      "right": null,
      "top": null,
      "visibility": null,
      "width": null
     }
    },
    "6792c15e8d9146a19ec03b9f8272f14b": {
     "model_module": "@jupyter-widgets/controls",
     "model_module_version": "1.5.0",
     "model_name": "ProgressStyleModel",
     "state": {
      "_model_module": "@jupyter-widgets/controls",
      "_model_module_version": "1.5.0",
      "_model_name": "ProgressStyleModel",
      "_view_count": null,
      "_view_module": "@jupyter-widgets/base",
      "_view_module_version": "1.2.0",
      "_view_name": "StyleView",
      "bar_color": null,
      "description_width": ""
     }
    },
    "689559e96d9d4ada94c6fba7f7dfa5f0": {
     "model_module": "@jupyter-widgets/base",
     "model_module_version": "1.2.0",
     "model_name": "LayoutModel",
     "state": {
      "_model_module": "@jupyter-widgets/base",
      "_model_module_version": "1.2.0",
      "_model_name": "LayoutModel",
      "_view_count": null,
      "_view_module": "@jupyter-widgets/base",
      "_view_module_version": "1.2.0",
      "_view_name": "LayoutView",
      "align_content": null,
      "align_items": null,
      "align_self": null,
      "border": null,
      "bottom": null,
      "display": null,
      "flex": null,
      "flex_flow": null,
      "grid_area": null,
      "grid_auto_columns": null,
      "grid_auto_flow": null,
      "grid_auto_rows": null,
      "grid_column": null,
      "grid_gap": null,
      "grid_row": null,
      "grid_template_areas": null,
      "grid_template_columns": null,
      "grid_template_rows": null,
      "height": null,
      "justify_content": null,
      "justify_items": null,
      "left": null,
      "margin": null,
      "max_height": null,
      "max_width": null,
      "min_height": null,
      "min_width": null,
      "object_fit": null,
      "object_position": null,
      "order": null,
      "overflow": null,
      "overflow_x": null,
      "overflow_y": null,
      "padding": null,
      "right": null,
      "top": null,
      "visibility": null,
      "width": null
     }
    },
    "68c3cd193eda45bda15d501497d71353": {
     "model_module": "@jupyter-widgets/controls",
     "model_module_version": "1.5.0",
     "model_name": "ProgressStyleModel",
     "state": {
      "_model_module": "@jupyter-widgets/controls",
      "_model_module_version": "1.5.0",
      "_model_name": "ProgressStyleModel",
      "_view_count": null,
      "_view_module": "@jupyter-widgets/base",
      "_view_module_version": "1.2.0",
      "_view_name": "StyleView",
      "bar_color": null,
      "description_width": ""
     }
    },
    "69f1284fb1bb4a0ca5b2773da4153e00": {
     "model_module": "@jupyter-widgets/controls",
     "model_module_version": "1.5.0",
     "model_name": "FloatProgressModel",
     "state": {
      "_dom_classes": [],
      "_model_module": "@jupyter-widgets/controls",
      "_model_module_version": "1.5.0",
      "_model_name": "FloatProgressModel",
      "_view_count": null,
      "_view_module": "@jupyter-widgets/controls",
      "_view_module_version": "1.5.0",
      "_view_name": "ProgressView",
      "bar_style": "success",
      "description": "",
      "description_tooltip": null,
      "layout": "IPY_MODEL_c2c121ca582445dca8dc5d52d6fedd23",
      "max": 231508,
      "min": 0,
      "orientation": "horizontal",
      "style": "IPY_MODEL_bc08d7ae8a8b4f0faa776fa4f080d397",
      "value": 231508
     }
    },
    "6bf0b5b25466480bac00ab79f26e5daa": {
     "model_module": "@jupyter-widgets/controls",
     "model_module_version": "1.5.0",
     "model_name": "HTMLModel",
     "state": {
      "_dom_classes": [],
      "_model_module": "@jupyter-widgets/controls",
      "_model_module_version": "1.5.0",
      "_model_name": "HTMLModel",
      "_view_count": null,
      "_view_module": "@jupyter-widgets/controls",
      "_view_module_version": "1.5.0",
      "_view_name": "HTMLView",
      "description": "",
      "description_tooltip": null,
      "layout": "IPY_MODEL_7bf909eba7664abba0d8dbc5063d35f8",
      "placeholder": "​",
      "style": "IPY_MODEL_557badff255d4e46af4f8046af787827",
      "value": "Downloading: 100%"
     }
    },
    "6d047276b107421296e68ee202591f2e": {
     "model_module": "@jupyter-widgets/controls",
     "model_module_version": "1.5.0",
     "model_name": "ProgressStyleModel",
     "state": {
      "_model_module": "@jupyter-widgets/controls",
      "_model_module_version": "1.5.0",
      "_model_name": "ProgressStyleModel",
      "_view_count": null,
      "_view_module": "@jupyter-widgets/base",
      "_view_module_version": "1.2.0",
      "_view_name": "StyleView",
      "bar_color": null,
      "description_width": ""
     }
    },
    "724142961f14409fb00a90c212f191b3": {
     "model_module": "@jupyter-widgets/controls",
     "model_module_version": "1.5.0",
     "model_name": "DescriptionStyleModel",
     "state": {
      "_model_module": "@jupyter-widgets/controls",
      "_model_module_version": "1.5.0",
      "_model_name": "DescriptionStyleModel",
      "_view_count": null,
      "_view_module": "@jupyter-widgets/base",
      "_view_module_version": "1.2.0",
      "_view_name": "StyleView",
      "description_width": ""
     }
    },
    "73b96b97772e4d74aa10f21fcb799391": {
     "model_module": "@jupyter-widgets/base",
     "model_module_version": "1.2.0",
     "model_name": "LayoutModel",
     "state": {
      "_model_module": "@jupyter-widgets/base",
      "_model_module_version": "1.2.0",
      "_model_name": "LayoutModel",
      "_view_count": null,
      "_view_module": "@jupyter-widgets/base",
      "_view_module_version": "1.2.0",
      "_view_name": "LayoutView",
      "align_content": null,
      "align_items": null,
      "align_self": null,
      "border": null,
      "bottom": null,
      "display": null,
      "flex": null,
      "flex_flow": null,
      "grid_area": null,
      "grid_auto_columns": null,
      "grid_auto_flow": null,
      "grid_auto_rows": null,
      "grid_column": null,
      "grid_gap": null,
      "grid_row": null,
      "grid_template_areas": null,
      "grid_template_columns": null,
      "grid_template_rows": null,
      "height": null,
      "justify_content": null,
      "justify_items": null,
      "left": null,
      "margin": null,
      "max_height": null,
      "max_width": null,
      "min_height": null,
      "min_width": null,
      "object_fit": null,
      "object_position": null,
      "order": null,
      "overflow": null,
      "overflow_x": null,
      "overflow_y": null,
      "padding": null,
      "right": null,
      "top": null,
      "visibility": null,
      "width": null
     }
    },
    "73d08f37bda04b6e960262f6f7b5ade3": {
     "model_module": "@jupyter-widgets/controls",
     "model_module_version": "1.5.0",
     "model_name": "DescriptionStyleModel",
     "state": {
      "_model_module": "@jupyter-widgets/controls",
      "_model_module_version": "1.5.0",
      "_model_name": "DescriptionStyleModel",
      "_view_count": null,
      "_view_module": "@jupyter-widgets/base",
      "_view_module_version": "1.2.0",
      "_view_name": "StyleView",
      "description_width": ""
     }
    },
    "740329ca72eb44aba81252e2e3dffca9": {
     "model_module": "@jupyter-widgets/base",
     "model_module_version": "1.2.0",
     "model_name": "LayoutModel",
     "state": {
      "_model_module": "@jupyter-widgets/base",
      "_model_module_version": "1.2.0",
      "_model_name": "LayoutModel",
      "_view_count": null,
      "_view_module": "@jupyter-widgets/base",
      "_view_module_version": "1.2.0",
      "_view_name": "LayoutView",
      "align_content": null,
      "align_items": null,
      "align_self": null,
      "border": null,
      "bottom": null,
      "display": null,
      "flex": null,
      "flex_flow": null,
      "grid_area": null,
      "grid_auto_columns": null,
      "grid_auto_flow": null,
      "grid_auto_rows": null,
      "grid_column": null,
      "grid_gap": null,
      "grid_row": null,
      "grid_template_areas": null,
      "grid_template_columns": null,
      "grid_template_rows": null,
      "height": null,
      "justify_content": null,
      "justify_items": null,
      "left": null,
      "margin": null,
      "max_height": null,
      "max_width": null,
      "min_height": null,
      "min_width": null,
      "object_fit": null,
      "object_position": null,
      "order": null,
      "overflow": null,
      "overflow_x": null,
      "overflow_y": null,
      "padding": null,
      "right": null,
      "top": null,
      "visibility": null,
      "width": null
     }
    },
    "7406550455e14211901f453c59b075db": {
     "model_module": "@jupyter-widgets/controls",
     "model_module_version": "1.5.0",
     "model_name": "FloatProgressModel",
     "state": {
      "_dom_classes": [],
      "_model_module": "@jupyter-widgets/controls",
      "_model_module_version": "1.5.0",
      "_model_name": "FloatProgressModel",
      "_view_count": null,
      "_view_module": "@jupyter-widgets/controls",
      "_view_module_version": "1.5.0",
      "_view_name": "ProgressView",
      "bar_style": "success",
      "description": "",
      "description_tooltip": null,
      "layout": "IPY_MODEL_fa6b8a4bc3074f0bad85cbe67fb9ab64",
      "max": 229,
      "min": 0,
      "orientation": "horizontal",
      "style": "IPY_MODEL_d3ef6cbd9fd749a78ef9a35a0ed1c24f",
      "value": 229
     }
    },
    "74ba7f43a63e459fafbcc2d1a52785c6": {
     "model_module": "@jupyter-widgets/controls",
     "model_module_version": "1.5.0",
     "model_name": "FloatProgressModel",
     "state": {
      "_dom_classes": [],
      "_model_module": "@jupyter-widgets/controls",
      "_model_module_version": "1.5.0",
      "_model_name": "FloatProgressModel",
      "_view_count": null,
      "_view_module": "@jupyter-widgets/controls",
      "_view_module_version": "1.5.0",
      "_view_name": "ProgressView",
      "bar_style": "success",
      "description": "",
      "description_tooltip": null,
      "layout": "IPY_MODEL_3557b83d935c4861980d2a103e3dfca2",
      "max": 112,
      "min": 0,
      "orientation": "horizontal",
      "style": "IPY_MODEL_6792c15e8d9146a19ec03b9f8272f14b",
      "value": 112
     }
    },
    "757819bdf0c1423daf255a81f15355c6": {
     "model_module": "@jupyter-widgets/base",
     "model_module_version": "1.2.0",
     "model_name": "LayoutModel",
     "state": {
      "_model_module": "@jupyter-widgets/base",
      "_model_module_version": "1.2.0",
      "_model_name": "LayoutModel",
      "_view_count": null,
      "_view_module": "@jupyter-widgets/base",
      "_view_module_version": "1.2.0",
      "_view_name": "LayoutView",
      "align_content": null,
      "align_items": null,
      "align_self": null,
      "border": null,
      "bottom": null,
      "display": null,
      "flex": null,
      "flex_flow": null,
      "grid_area": null,
      "grid_auto_columns": null,
      "grid_auto_flow": null,
      "grid_auto_rows": null,
      "grid_column": null,
      "grid_gap": null,
      "grid_row": null,
      "grid_template_areas": null,
      "grid_template_columns": null,
      "grid_template_rows": null,
      "height": null,
      "justify_content": null,
      "justify_items": null,
      "left": null,
      "margin": null,
      "max_height": null,
      "max_width": null,
      "min_height": null,
      "min_width": null,
      "object_fit": null,
      "object_position": null,
      "order": null,
      "overflow": null,
      "overflow_x": null,
      "overflow_y": null,
      "padding": null,
      "right": null,
      "top": null,
      "visibility": null,
      "width": null
     }
    },
    "75a3ccac2a0547699bfb5d8319a12a9a": {
     "model_module": "@jupyter-widgets/controls",
     "model_module_version": "1.5.0",
     "model_name": "ProgressStyleModel",
     "state": {
      "_model_module": "@jupyter-widgets/controls",
      "_model_module_version": "1.5.0",
      "_model_name": "ProgressStyleModel",
      "_view_count": null,
      "_view_module": "@jupyter-widgets/base",
      "_view_module_version": "1.2.0",
      "_view_name": "StyleView",
      "bar_color": null,
      "description_width": ""
     }
    },
    "77b346308dac42f89a89b8fd526d1bcf": {
     "model_module": "@jupyter-widgets/controls",
     "model_module_version": "1.5.0",
     "model_name": "FloatProgressModel",
     "state": {
      "_dom_classes": [],
      "_model_module": "@jupyter-widgets/controls",
      "_model_module_version": "1.5.0",
      "_model_name": "FloatProgressModel",
      "_view_count": null,
      "_view_module": "@jupyter-widgets/controls",
      "_view_module_version": "1.5.0",
      "_view_name": "ProgressView",
      "bar_style": "success",
      "description": "",
      "description_tooltip": null,
      "layout": "IPY_MODEL_0c0f3f63737c44e9bfa1dc7eeabc2f62",
      "max": 53,
      "min": 0,
      "orientation": "horizontal",
      "style": "IPY_MODEL_75a3ccac2a0547699bfb5d8319a12a9a",
      "value": 53
     }
    },
    "7bc1e2859ac7497cb2cbae19385493e9": {
     "model_module": "@jupyter-widgets/controls",
     "model_module_version": "1.5.0",
     "model_name": "ProgressStyleModel",
     "state": {
      "_model_module": "@jupyter-widgets/controls",
      "_model_module_version": "1.5.0",
      "_model_name": "ProgressStyleModel",
      "_view_count": null,
      "_view_module": "@jupyter-widgets/base",
      "_view_module_version": "1.2.0",
      "_view_name": "StyleView",
      "bar_color": null,
      "description_width": ""
     }
    },
    "7bf909eba7664abba0d8dbc5063d35f8": {
     "model_module": "@jupyter-widgets/base",
     "model_module_version": "1.2.0",
     "model_name": "LayoutModel",
     "state": {
      "_model_module": "@jupyter-widgets/base",
      "_model_module_version": "1.2.0",
      "_model_name": "LayoutModel",
      "_view_count": null,
      "_view_module": "@jupyter-widgets/base",
      "_view_module_version": "1.2.0",
      "_view_name": "LayoutView",
      "align_content": null,
      "align_items": null,
      "align_self": null,
      "border": null,
      "bottom": null,
      "display": null,
      "flex": null,
      "flex_flow": null,
      "grid_area": null,
      "grid_auto_columns": null,
      "grid_auto_flow": null,
      "grid_auto_rows": null,
      "grid_column": null,
      "grid_gap": null,
      "grid_row": null,
      "grid_template_areas": null,
      "grid_template_columns": null,
      "grid_template_rows": null,
      "height": null,
      "justify_content": null,
      "justify_items": null,
      "left": null,
      "margin": null,
      "max_height": null,
      "max_width": null,
      "min_height": null,
      "min_width": null,
      "object_fit": null,
      "object_position": null,
      "order": null,
      "overflow": null,
      "overflow_x": null,
      "overflow_y": null,
      "padding": null,
      "right": null,
      "top": null,
      "visibility": null,
      "width": null
     }
    },
    "7c29ca94036e4a508847c1ed70fa5d03": {
     "model_module": "@jupyter-widgets/controls",
     "model_module_version": "1.5.0",
     "model_name": "DescriptionStyleModel",
     "state": {
      "_model_module": "@jupyter-widgets/controls",
      "_model_module_version": "1.5.0",
      "_model_name": "DescriptionStyleModel",
      "_view_count": null,
      "_view_module": "@jupyter-widgets/base",
      "_view_module_version": "1.2.0",
      "_view_name": "StyleView",
      "description_width": ""
     }
    },
    "835574da08c643098e45ff2c30b33e96": {
     "model_module": "@jupyter-widgets/controls",
     "model_module_version": "1.5.0",
     "model_name": "HBoxModel",
     "state": {
      "_dom_classes": [],
      "_model_module": "@jupyter-widgets/controls",
      "_model_module_version": "1.5.0",
      "_model_name": "HBoxModel",
      "_view_count": null,
      "_view_module": "@jupyter-widgets/controls",
      "_view_module_version": "1.5.0",
      "_view_name": "HBoxView",
      "box_style": "",
      "children": [
       "IPY_MODEL_cb4298289777472193a6eddec9702114",
       "IPY_MODEL_db1898ab3e41470ca22f32de6ef42869",
       "IPY_MODEL_8d3aa0b7a0a845e7b89aea2f9f8106b4"
      ],
      "layout": "IPY_MODEL_97ce1cef531849c0af3f13579d574bb9"
     }
    },
    "83da746f4f84447ca6a73bf0ac285323": {
     "model_module": "@jupyter-widgets/controls",
     "model_module_version": "1.5.0",
     "model_name": "HTMLModel",
     "state": {
      "_dom_classes": [],
      "_model_module": "@jupyter-widgets/controls",
      "_model_module_version": "1.5.0",
      "_model_name": "HTMLModel",
      "_view_count": null,
      "_view_module": "@jupyter-widgets/controls",
      "_view_module_version": "1.5.0",
      "_view_name": "HTMLView",
      "description": "",
      "description_tooltip": null,
      "layout": "IPY_MODEL_288abe669b284588b7e6c169c34b51ca",
      "placeholder": "​",
      "style": "IPY_MODEL_4f4dfb3044eb44bf8b65660f9dc1c270",
      "value": " 53.0/53.0 [00:00&lt;00:00, 765B/s]"
     }
    },
    "859fb31afbeb46b69f9be25880509785": {
     "model_module": "@jupyter-widgets/controls",
     "model_module_version": "1.5.0",
     "model_name": "DescriptionStyleModel",
     "state": {
      "_model_module": "@jupyter-widgets/controls",
      "_model_module_version": "1.5.0",
      "_model_name": "DescriptionStyleModel",
      "_view_count": null,
      "_view_module": "@jupyter-widgets/base",
      "_view_module_version": "1.2.0",
      "_view_name": "StyleView",
      "description_width": ""
     }
    },
    "85bb9204fa29489ab12a94925da0adeb": {
     "model_module": "@jupyter-widgets/controls",
     "model_module_version": "1.5.0",
     "model_name": "HBoxModel",
     "state": {
      "_dom_classes": [],
      "_model_module": "@jupyter-widgets/controls",
      "_model_module_version": "1.5.0",
      "_model_name": "HBoxModel",
      "_view_count": null,
      "_view_module": "@jupyter-widgets/controls",
      "_view_module_version": "1.5.0",
      "_view_name": "HBoxView",
      "box_style": "",
      "children": [
       "IPY_MODEL_d5eda15070ea4da392437e31d1e152f3",
       "IPY_MODEL_ab17d8c1218b4551bd76861b9cfa3a3c",
       "IPY_MODEL_1bad6b1ba48149c0b1242231c240a695"
      ],
      "layout": "IPY_MODEL_5cdb5dd504b44ec6bb8cfd039d918f3a"
     }
    },
    "85fa6fe016954e9ea2d5692fb1a2b1e3": {
     "model_module": "@jupyter-widgets/controls",
     "model_module_version": "1.5.0",
     "model_name": "HBoxModel",
     "state": {
      "_dom_classes": [],
      "_model_module": "@jupyter-widgets/controls",
      "_model_module_version": "1.5.0",
      "_model_name": "HBoxModel",
      "_view_count": null,
      "_view_module": "@jupyter-widgets/controls",
      "_view_module_version": "1.5.0",
      "_view_name": "HBoxView",
      "box_style": "",
      "children": [
       "IPY_MODEL_1d52003493a64fd39236a4daca4c5113",
       "IPY_MODEL_cfa533d622d046e186815c3ea6f61ae9",
       "IPY_MODEL_586bab9e85a04498a175bbc7ce8fae81"
      ],
      "layout": "IPY_MODEL_0da287d5c2e343caa85870e6081a1850"
     }
    },
    "88a6f0d53527498ea50cdada043ce5f9": {
     "model_module": "@jupyter-widgets/controls",
     "model_module_version": "1.5.0",
     "model_name": "HTMLModel",
     "state": {
      "_dom_classes": [],
      "_model_module": "@jupyter-widgets/controls",
      "_model_module_version": "1.5.0",
      "_model_name": "HTMLModel",
      "_view_count": null,
      "_view_module": "@jupyter-widgets/controls",
      "_view_module_version": "1.5.0",
      "_view_name": "HTMLView",
      "description": "",
      "description_tooltip": null,
      "layout": "IPY_MODEL_07d2e98777b94f85889dd0c7c3923e51",
      "placeholder": "​",
      "style": "IPY_MODEL_dc7660ab37644e50b2b6bbf15a37ea9b",
      "value": "Downloading: 100%"
     }
    },
    "893e4ec828cd49a28cf50686b58ed959": {
     "model_module": "@jupyter-widgets/base",
     "model_module_version": "1.2.0",
     "model_name": "LayoutModel",
     "state": {
      "_model_module": "@jupyter-widgets/base",
      "_model_module_version": "1.2.0",
      "_model_name": "LayoutModel",
      "_view_count": null,
      "_view_module": "@jupyter-widgets/base",
      "_view_module_version": "1.2.0",
      "_view_name": "LayoutView",
      "align_content": null,
      "align_items": null,
      "align_self": null,
      "border": null,
      "bottom": null,
      "display": null,
      "flex": null,
      "flex_flow": null,
      "grid_area": null,
      "grid_auto_columns": null,
      "grid_auto_flow": null,
      "grid_auto_rows": null,
      "grid_column": null,
      "grid_gap": null,
      "grid_row": null,
      "grid_template_areas": null,
      "grid_template_columns": null,
      "grid_template_rows": null,
      "height": null,
      "justify_content": null,
      "justify_items": null,
      "left": null,
      "margin": null,
      "max_height": null,
      "max_width": null,
      "min_height": null,
      "min_width": null,
      "object_fit": null,
      "object_position": null,
      "order": null,
      "overflow": null,
      "overflow_x": null,
      "overflow_y": null,
      "padding": null,
      "right": null,
      "top": null,
      "visibility": null,
      "width": null
     }
    },
    "89df279064954b8895721fd7964f9a15": {
     "model_module": "@jupyter-widgets/base",
     "model_module_version": "1.2.0",
     "model_name": "LayoutModel",
     "state": {
      "_model_module": "@jupyter-widgets/base",
      "_model_module_version": "1.2.0",
      "_model_name": "LayoutModel",
      "_view_count": null,
      "_view_module": "@jupyter-widgets/base",
      "_view_module_version": "1.2.0",
      "_view_name": "LayoutView",
      "align_content": null,
      "align_items": null,
      "align_self": null,
      "border": null,
      "bottom": null,
      "display": null,
      "flex": null,
      "flex_flow": null,
      "grid_area": null,
      "grid_auto_columns": null,
      "grid_auto_flow": null,
      "grid_auto_rows": null,
      "grid_column": null,
      "grid_gap": null,
      "grid_row": null,
      "grid_template_areas": null,
      "grid_template_columns": null,
      "grid_template_rows": null,
      "height": null,
      "justify_content": null,
      "justify_items": null,
      "left": null,
      "margin": null,
      "max_height": null,
      "max_width": null,
      "min_height": null,
      "min_width": null,
      "object_fit": null,
      "object_position": null,
      "order": null,
      "overflow": null,
      "overflow_x": null,
      "overflow_y": null,
      "padding": null,
      "right": null,
      "top": null,
      "visibility": null,
      "width": null
     }
    },
    "8a8c8f92420441ff9a1a7c49ab167869": {
     "model_module": "@jupyter-widgets/base",
     "model_module_version": "1.2.0",
     "model_name": "LayoutModel",
     "state": {
      "_model_module": "@jupyter-widgets/base",
      "_model_module_version": "1.2.0",
      "_model_name": "LayoutModel",
      "_view_count": null,
      "_view_module": "@jupyter-widgets/base",
      "_view_module_version": "1.2.0",
      "_view_name": "LayoutView",
      "align_content": null,
      "align_items": null,
      "align_self": null,
      "border": null,
      "bottom": null,
      "display": null,
      "flex": null,
      "flex_flow": null,
      "grid_area": null,
      "grid_auto_columns": null,
      "grid_auto_flow": null,
      "grid_auto_rows": null,
      "grid_column": null,
      "grid_gap": null,
      "grid_row": null,
      "grid_template_areas": null,
      "grid_template_columns": null,
      "grid_template_rows": null,
      "height": null,
      "justify_content": null,
      "justify_items": null,
      "left": null,
      "margin": null,
      "max_height": null,
      "max_width": null,
      "min_height": null,
      "min_width": null,
      "object_fit": null,
      "object_position": null,
      "order": null,
      "overflow": null,
      "overflow_x": null,
      "overflow_y": null,
      "padding": null,
      "right": null,
      "top": null,
      "visibility": null,
      "width": null
     }
    },
    "8d2c788b1a2c47fe8de1869fc6042e7e": {
     "model_module": "@jupyter-widgets/controls",
     "model_module_version": "1.5.0",
     "model_name": "HBoxModel",
     "state": {
      "_dom_classes": [],
      "_model_module": "@jupyter-widgets/controls",
      "_model_module_version": "1.5.0",
      "_model_name": "HBoxModel",
      "_view_count": null,
      "_view_module": "@jupyter-widgets/controls",
      "_view_module_version": "1.5.0",
      "_view_name": "HBoxView",
      "box_style": "",
      "children": [
       "IPY_MODEL_04c78795ffd540b485b257ef1fd98d84",
       "IPY_MODEL_bd653b5d6c634446ba7857299c816c5b",
       "IPY_MODEL_093979967c0940dcb2ff3b250b8407ea"
      ],
      "layout": "IPY_MODEL_495448d55e7d45bbb0bac0f72f0516a6"
     }
    },
    "8d3aa0b7a0a845e7b89aea2f9f8106b4": {
     "model_module": "@jupyter-widgets/controls",
     "model_module_version": "1.5.0",
     "model_name": "HTMLModel",
     "state": {
      "_dom_classes": [],
      "_model_module": "@jupyter-widgets/controls",
      "_model_module_version": "1.5.0",
      "_model_name": "HTMLModel",
      "_view_count": null,
      "_view_module": "@jupyter-widgets/controls",
      "_view_module_version": "1.5.0",
      "_view_name": "HTMLView",
      "description": "",
      "description_tooltip": null,
      "layout": "IPY_MODEL_15a75b1560da4f1e8ec1b22c92b47c28",
      "placeholder": "​",
      "style": "IPY_MODEL_b7e82853ef674c3d81b63865a810ff2b",
      "value": " 122/122 [00:00&lt;00:00, 2.48kB/s]"
     }
    },
    "8d8f5bb51ef0459986ca4ab6b9c767c6": {
     "model_module": "@jupyter-widgets/base",
     "model_module_version": "1.2.0",
     "model_name": "LayoutModel",
     "state": {
      "_model_module": "@jupyter-widgets/base",
      "_model_module_version": "1.2.0",
      "_model_name": "LayoutModel",
      "_view_count": null,
      "_view_module": "@jupyter-widgets/base",
      "_view_module_version": "1.2.0",
      "_view_name": "LayoutView",
      "align_content": null,
      "align_items": null,
      "align_self": null,
      "border": null,
      "bottom": null,
      "display": null,
      "flex": null,
      "flex_flow": null,
      "grid_area": null,
      "grid_auto_columns": null,
      "grid_auto_flow": null,
      "grid_auto_rows": null,
      "grid_column": null,
      "grid_gap": null,
      "grid_row": null,
      "grid_template_areas": null,
      "grid_template_columns": null,
      "grid_template_rows": null,
      "height": null,
      "justify_content": null,
      "justify_items": null,
      "left": null,
      "margin": null,
      "max_height": null,
      "max_width": null,
      "min_height": null,
      "min_width": null,
      "object_fit": null,
      "object_position": null,
      "order": null,
      "overflow": null,
      "overflow_x": null,
      "overflow_y": null,
      "padding": null,
      "right": null,
      "top": null,
      "visibility": null,
      "width": null
     }
    },
    "8db5ef6ba38348a0bcbffb55a286460e": {
     "model_module": "@jupyter-widgets/controls",
     "model_module_version": "1.5.0",
     "model_name": "HTMLModel",
     "state": {
      "_dom_classes": [],
      "_model_module": "@jupyter-widgets/controls",
      "_model_module_version": "1.5.0",
      "_model_name": "HTMLModel",
      "_view_count": null,
      "_view_module": "@jupyter-widgets/controls",
      "_view_module_version": "1.5.0",
      "_view_name": "HTMLView",
      "description": "",
      "description_tooltip": null,
      "layout": "IPY_MODEL_fb5b59d8c2d54af6bb686ba07619c867",
      "placeholder": "​",
      "style": "IPY_MODEL_b2abdc4b07324e73a9a0c6c760242ab6",
      "value": " 314/314 [00:00&lt;00:00, 2.62kB/s]"
     }
    },
    "920c70794f944a28b1924291933db413": {
     "model_module": "@jupyter-widgets/controls",
     "model_module_version": "1.5.0",
     "model_name": "HTMLModel",
     "state": {
      "_dom_classes": [],
      "_model_module": "@jupyter-widgets/controls",
      "_model_module_version": "1.5.0",
      "_model_name": "HTMLModel",
      "_view_count": null,
      "_view_module": "@jupyter-widgets/controls",
      "_view_module_version": "1.5.0",
      "_view_name": "HTMLView",
      "description": "",
      "description_tooltip": null,
      "layout": "IPY_MODEL_d934e532f8b14d91bb0ca1bf8aadb81e",
      "placeholder": "​",
      "style": "IPY_MODEL_5a6696a6d67d40548c6548993ac6d725",
      "value": "Downloading: 100%"
     }
    },
    "9212576967fb4b4584e8f10071ab8307": {
     "model_module": "@jupyter-widgets/controls",
     "model_module_version": "1.5.0",
     "model_name": "DescriptionStyleModel",
     "state": {
      "_model_module": "@jupyter-widgets/controls",
      "_model_module_version": "1.5.0",
      "_model_name": "DescriptionStyleModel",
      "_view_count": null,
      "_view_module": "@jupyter-widgets/base",
      "_view_module_version": "1.2.0",
      "_view_name": "StyleView",
      "description_width": ""
     }
    },
    "94d8dabdf93e4cdbaa48a75977224f12": {
     "model_module": "@jupyter-widgets/controls",
     "model_module_version": "1.5.0",
     "model_name": "DescriptionStyleModel",
     "state": {
      "_model_module": "@jupyter-widgets/controls",
      "_model_module_version": "1.5.0",
      "_model_name": "DescriptionStyleModel",
      "_view_count": null,
      "_view_module": "@jupyter-widgets/base",
      "_view_module_version": "1.2.0",
      "_view_name": "StyleView",
      "description_width": ""
     }
    },
    "96f00533e0654fdabe1cd9ca062c8d8c": {
     "model_module": "@jupyter-widgets/base",
     "model_module_version": "1.2.0",
     "model_name": "LayoutModel",
     "state": {
      "_model_module": "@jupyter-widgets/base",
      "_model_module_version": "1.2.0",
      "_model_name": "LayoutModel",
      "_view_count": null,
      "_view_module": "@jupyter-widgets/base",
      "_view_module_version": "1.2.0",
      "_view_name": "LayoutView",
      "align_content": null,
      "align_items": null,
      "align_self": null,
      "border": null,
      "bottom": null,
      "display": null,
      "flex": null,
      "flex_flow": null,
      "grid_area": null,
      "grid_auto_columns": null,
      "grid_auto_flow": null,
      "grid_auto_rows": null,
      "grid_column": null,
      "grid_gap": null,
      "grid_row": null,
      "grid_template_areas": null,
      "grid_template_columns": null,
      "grid_template_rows": null,
      "height": null,
      "justify_content": null,
      "justify_items": null,
      "left": null,
      "margin": null,
      "max_height": null,
      "max_width": null,
      "min_height": null,
      "min_width": null,
      "object_fit": null,
      "object_position": null,
      "order": null,
      "overflow": null,
      "overflow_x": null,
      "overflow_y": null,
      "padding": null,
      "right": null,
      "top": null,
      "visibility": null,
      "width": null
     }
    },
    "97ce1cef531849c0af3f13579d574bb9": {
     "model_module": "@jupyter-widgets/base",
     "model_module_version": "1.2.0",
     "model_name": "LayoutModel",
     "state": {
      "_model_module": "@jupyter-widgets/base",
      "_model_module_version": "1.2.0",
      "_model_name": "LayoutModel",
      "_view_count": null,
      "_view_module": "@jupyter-widgets/base",
      "_view_module_version": "1.2.0",
      "_view_name": "LayoutView",
      "align_content": null,
      "align_items": null,
      "align_self": null,
      "border": null,
      "bottom": null,
      "display": null,
      "flex": null,
      "flex_flow": null,
      "grid_area": null,
      "grid_auto_columns": null,
      "grid_auto_flow": null,
      "grid_auto_rows": null,
      "grid_column": null,
      "grid_gap": null,
      "grid_row": null,
      "grid_template_areas": null,
      "grid_template_columns": null,
      "grid_template_rows": null,
      "height": null,
      "justify_content": null,
      "justify_items": null,
      "left": null,
      "margin": null,
      "max_height": null,
      "max_width": null,
      "min_height": null,
      "min_width": null,
      "object_fit": null,
      "object_position": null,
      "order": null,
      "overflow": null,
      "overflow_x": null,
      "overflow_y": null,
      "padding": null,
      "right": null,
      "top": null,
      "visibility": null,
      "width": null
     }
    },
    "9e5a1dbefa16483cb0105517d0f7a893": {
     "model_module": "@jupyter-widgets/controls",
     "model_module_version": "1.5.0",
     "model_name": "HTMLModel",
     "state": {
      "_dom_classes": [],
      "_model_module": "@jupyter-widgets/controls",
      "_model_module_version": "1.5.0",
      "_model_name": "HTMLModel",
      "_view_count": null,
      "_view_module": "@jupyter-widgets/controls",
      "_view_module_version": "1.5.0",
      "_view_name": "HTMLView",
      "description": "",
      "description_tooltip": null,
      "layout": "IPY_MODEL_63bbbc1632fd4ebda486f1bd6c35f755",
      "placeholder": "​",
      "style": "IPY_MODEL_5127f18128f747cebac0638db5fb10f8",
      "value": " 112/112 [00:00&lt;00:00, 653B/s]"
     }
    },
    "a88b827e88ab4398b70fa4a70542e55e": {
     "model_module": "@jupyter-widgets/base",
     "model_module_version": "1.2.0",
     "model_name": "LayoutModel",
     "state": {
      "_model_module": "@jupyter-widgets/base",
      "_model_module_version": "1.2.0",
      "_model_name": "LayoutModel",
      "_view_count": null,
      "_view_module": "@jupyter-widgets/base",
      "_view_module_version": "1.2.0",
      "_view_name": "LayoutView",
      "align_content": null,
      "align_items": null,
      "align_self": null,
      "border": null,
      "bottom": null,
      "display": null,
      "flex": null,
      "flex_flow": null,
      "grid_area": null,
      "grid_auto_columns": null,
      "grid_auto_flow": null,
      "grid_auto_rows": null,
      "grid_column": null,
      "grid_gap": null,
      "grid_row": null,
      "grid_template_areas": null,
      "grid_template_columns": null,
      "grid_template_rows": null,
      "height": null,
      "justify_content": null,
      "justify_items": null,
      "left": null,
      "margin": null,
      "max_height": null,
      "max_width": null,
      "min_height": null,
      "min_width": null,
      "object_fit": null,
      "object_position": null,
      "order": null,
      "overflow": null,
      "overflow_x": null,
      "overflow_y": null,
      "padding": null,
      "right": null,
      "top": null,
      "visibility": null,
      "width": null
     }
    },
    "ab17d8c1218b4551bd76861b9cfa3a3c": {
     "model_module": "@jupyter-widgets/controls",
     "model_module_version": "1.5.0",
     "model_name": "FloatProgressModel",
     "state": {
      "_dom_classes": [],
      "_model_module": "@jupyter-widgets/controls",
      "_model_module_version": "1.5.0",
      "_model_name": "FloatProgressModel",
      "_view_count": null,
      "_view_module": "@jupyter-widgets/controls",
      "_view_module_version": "1.5.0",
      "_view_name": "ProgressView",
      "bar_style": "success",
      "description": "",
      "description_tooltip": null,
      "layout": "IPY_MODEL_ec13d8622c404e83928e89a054188a28",
      "max": 690,
      "min": 0,
      "orientation": "horizontal",
      "style": "IPY_MODEL_7bc1e2859ac7497cb2cbae19385493e9",
      "value": 690
     }
    },
    "b2abdc4b07324e73a9a0c6c760242ab6": {
     "model_module": "@jupyter-widgets/controls",
     "model_module_version": "1.5.0",
     "model_name": "DescriptionStyleModel",
     "state": {
      "_model_module": "@jupyter-widgets/controls",
      "_model_module_version": "1.5.0",
      "_model_name": "DescriptionStyleModel",
      "_view_count": null,
      "_view_module": "@jupyter-widgets/base",
      "_view_module_version": "1.2.0",
      "_view_name": "StyleView",
      "description_width": ""
     }
    },
    "b328947dec2c40cd82e2d11cce651e84": {
     "model_module": "@jupyter-widgets/base",
     "model_module_version": "1.2.0",
     "model_name": "LayoutModel",
     "state": {
      "_model_module": "@jupyter-widgets/base",
      "_model_module_version": "1.2.0",
      "_model_name": "LayoutModel",
      "_view_count": null,
      "_view_module": "@jupyter-widgets/base",
      "_view_module_version": "1.2.0",
      "_view_name": "LayoutView",
      "align_content": null,
      "align_items": null,
      "align_self": null,
      "border": null,
      "bottom": null,
      "display": null,
      "flex": null,
      "flex_flow": null,
      "grid_area": null,
      "grid_auto_columns": null,
      "grid_auto_flow": null,
      "grid_auto_rows": null,
      "grid_column": null,
      "grid_gap": null,
      "grid_row": null,
      "grid_template_areas": null,
      "grid_template_columns": null,
      "grid_template_rows": null,
      "height": null,
      "justify_content": null,
      "justify_items": null,
      "left": null,
      "margin": null,
      "max_height": null,
      "max_width": null,
      "min_height": null,
      "min_width": null,
      "object_fit": null,
      "object_position": null,
      "order": null,
      "overflow": null,
      "overflow_x": null,
      "overflow_y": null,
      "padding": null,
      "right": null,
      "top": null,
      "visibility": null,
      "width": null
     }
    },
    "b62dc6d53c314ec18d43b144a326faa1": {
     "model_module": "@jupyter-widgets/controls",
     "model_module_version": "1.5.0",
     "model_name": "DescriptionStyleModel",
     "state": {
      "_model_module": "@jupyter-widgets/controls",
      "_model_module_version": "1.5.0",
      "_model_name": "DescriptionStyleModel",
      "_view_count": null,
      "_view_module": "@jupyter-widgets/base",
      "_view_module_version": "1.2.0",
      "_view_name": "StyleView",
      "description_width": ""
     }
    },
    "b7e82853ef674c3d81b63865a810ff2b": {
     "model_module": "@jupyter-widgets/controls",
     "model_module_version": "1.5.0",
     "model_name": "DescriptionStyleModel",
     "state": {
      "_model_module": "@jupyter-widgets/controls",
      "_model_module_version": "1.5.0",
      "_model_name": "DescriptionStyleModel",
      "_view_count": null,
      "_view_module": "@jupyter-widgets/base",
      "_view_module_version": "1.2.0",
      "_view_name": "StyleView",
      "description_width": ""
     }
    },
    "b8aa13a20f534e6b9a0ed6a9158760ab": {
     "model_module": "@jupyter-widgets/controls",
     "model_module_version": "1.5.0",
     "model_name": "ProgressStyleModel",
     "state": {
      "_model_module": "@jupyter-widgets/controls",
      "_model_module_version": "1.5.0",
      "_model_name": "ProgressStyleModel",
      "_view_count": null,
      "_view_module": "@jupyter-widgets/base",
      "_view_module_version": "1.2.0",
      "_view_name": "StyleView",
      "bar_color": null,
      "description_width": ""
     }
    },
    "bc08d7ae8a8b4f0faa776fa4f080d397": {
     "model_module": "@jupyter-widgets/controls",
     "model_module_version": "1.5.0",
     "model_name": "ProgressStyleModel",
     "state": {
      "_model_module": "@jupyter-widgets/controls",
      "_model_module_version": "1.5.0",
      "_model_name": "ProgressStyleModel",
      "_view_count": null,
      "_view_module": "@jupyter-widgets/base",
      "_view_module_version": "1.2.0",
      "_view_name": "StyleView",
      "bar_color": null,
      "description_width": ""
     }
    },
    "bd653b5d6c634446ba7857299c816c5b": {
     "model_module": "@jupyter-widgets/controls",
     "model_module_version": "1.5.0",
     "model_name": "FloatProgressModel",
     "state": {
      "_dom_classes": [],
      "_model_module": "@jupyter-widgets/controls",
      "_model_module_version": "1.5.0",
      "_model_name": "FloatProgressModel",
      "_view_count": null,
      "_view_module": "@jupyter-widgets/controls",
      "_view_module_version": "1.5.0",
      "_view_name": "ProgressView",
      "bar_style": "success",
      "description": "",
      "description_tooltip": null,
      "layout": "IPY_MODEL_740329ca72eb44aba81252e2e3dffca9",
      "max": 190,
      "min": 0,
      "orientation": "horizontal",
      "style": "IPY_MODEL_68c3cd193eda45bda15d501497d71353",
      "value": 190
     }
    },
    "be3e1529bedc438a8f4eba5a361d843b": {
     "model_module": "@jupyter-widgets/base",
     "model_module_version": "1.2.0",
     "model_name": "LayoutModel",
     "state": {
      "_model_module": "@jupyter-widgets/base",
      "_model_module_version": "1.2.0",
      "_model_name": "LayoutModel",
      "_view_count": null,
      "_view_module": "@jupyter-widgets/base",
      "_view_module_version": "1.2.0",
      "_view_name": "LayoutView",
      "align_content": null,
      "align_items": null,
      "align_self": null,
      "border": null,
      "bottom": null,
      "display": null,
      "flex": null,
      "flex_flow": null,
      "grid_area": null,
      "grid_auto_columns": null,
      "grid_auto_flow": null,
      "grid_auto_rows": null,
      "grid_column": null,
      "grid_gap": null,
      "grid_row": null,
      "grid_template_areas": null,
      "grid_template_columns": null,
      "grid_template_rows": null,
      "height": null,
      "justify_content": null,
      "justify_items": null,
      "left": null,
      "margin": null,
      "max_height": null,
      "max_width": null,
      "min_height": null,
      "min_width": null,
      "object_fit": null,
      "object_position": null,
      "order": null,
      "overflow": null,
      "overflow_x": null,
      "overflow_y": null,
      "padding": null,
      "right": null,
      "top": null,
      "visibility": null,
      "width": null
     }
    },
    "c0dee6ab51014b3c831ab1c786f3c9fc": {
     "model_module": "@jupyter-widgets/base",
     "model_module_version": "1.2.0",
     "model_name": "LayoutModel",
     "state": {
      "_model_module": "@jupyter-widgets/base",
      "_model_module_version": "1.2.0",
      "_model_name": "LayoutModel",
      "_view_count": null,
      "_view_module": "@jupyter-widgets/base",
      "_view_module_version": "1.2.0",
      "_view_name": "LayoutView",
      "align_content": null,
      "align_items": null,
      "align_self": null,
      "border": null,
      "bottom": null,
      "display": null,
      "flex": null,
      "flex_flow": null,
      "grid_area": null,
      "grid_auto_columns": null,
      "grid_auto_flow": null,
      "grid_auto_rows": null,
      "grid_column": null,
      "grid_gap": null,
      "grid_row": null,
      "grid_template_areas": null,
      "grid_template_columns": null,
      "grid_template_rows": null,
      "height": null,
      "justify_content": null,
      "justify_items": null,
      "left": null,
      "margin": null,
      "max_height": null,
      "max_width": null,
      "min_height": null,
      "min_width": null,
      "object_fit": null,
      "object_position": null,
      "order": null,
      "overflow": null,
      "overflow_x": null,
      "overflow_y": null,
      "padding": null,
      "right": null,
      "top": null,
      "visibility": null,
      "width": null
     }
    },
    "c18fc00a093445cc9b5c8664a434d736": {
     "model_module": "@jupyter-widgets/controls",
     "model_module_version": "1.5.0",
     "model_name": "HTMLModel",
     "state": {
      "_dom_classes": [],
      "_model_module": "@jupyter-widgets/controls",
      "_model_module_version": "1.5.0",
      "_model_name": "HTMLModel",
      "_view_count": null,
      "_view_module": "@jupyter-widgets/controls",
      "_view_module_version": "1.5.0",
      "_view_name": "HTMLView",
      "description": "",
      "description_tooltip": null,
      "layout": "IPY_MODEL_757819bdf0c1423daf255a81f15355c6",
      "placeholder": "​",
      "style": "IPY_MODEL_260ae4b8e4de405492d93f2f4111cba4",
      "value": " 229/229 [00:00&lt;00:00, 1.34kB/s]"
     }
    },
    "c2c121ca582445dca8dc5d52d6fedd23": {
     "model_module": "@jupyter-widgets/base",
     "model_module_version": "1.2.0",
     "model_name": "LayoutModel",
     "state": {
      "_model_module": "@jupyter-widgets/base",
      "_model_module_version": "1.2.0",
      "_model_name": "LayoutModel",
      "_view_count": null,
      "_view_module": "@jupyter-widgets/base",
      "_view_module_version": "1.2.0",
      "_view_name": "LayoutView",
      "align_content": null,
      "align_items": null,
      "align_self": null,
      "border": null,
      "bottom": null,
      "display": null,
      "flex": null,
      "flex_flow": null,
      "grid_area": null,
      "grid_auto_columns": null,
      "grid_auto_flow": null,
      "grid_auto_rows": null,
      "grid_column": null,
      "grid_gap": null,
      "grid_row": null,
      "grid_template_areas": null,
      "grid_template_columns": null,
      "grid_template_rows": null,
      "height": null,
      "justify_content": null,
      "justify_items": null,
      "left": null,
      "margin": null,
      "max_height": null,
      "max_width": null,
      "min_height": null,
      "min_width": null,
      "object_fit": null,
      "object_position": null,
      "order": null,
      "overflow": null,
      "overflow_x": null,
      "overflow_y": null,
      "padding": null,
      "right": null,
      "top": null,
      "visibility": null,
      "width": null
     }
    },
    "c6f97651bd0a4dbd8041579cf43da439": {
     "model_module": "@jupyter-widgets/controls",
     "model_module_version": "1.5.0",
     "model_name": "DescriptionStyleModel",
     "state": {
      "_model_module": "@jupyter-widgets/controls",
      "_model_module_version": "1.5.0",
      "_model_name": "DescriptionStyleModel",
      "_view_count": null,
      "_view_module": "@jupyter-widgets/base",
      "_view_module_version": "1.2.0",
      "_view_name": "StyleView",
      "description_width": ""
     }
    },
    "c95419d68d674b3ca6df3fa28bd9f77a": {
     "model_module": "@jupyter-widgets/base",
     "model_module_version": "1.2.0",
     "model_name": "LayoutModel",
     "state": {
      "_model_module": "@jupyter-widgets/base",
      "_model_module_version": "1.2.0",
      "_model_name": "LayoutModel",
      "_view_count": null,
      "_view_module": "@jupyter-widgets/base",
      "_view_module_version": "1.2.0",
      "_view_name": "LayoutView",
      "align_content": null,
      "align_items": null,
      "align_self": null,
      "border": null,
      "bottom": null,
      "display": null,
      "flex": null,
      "flex_flow": null,
      "grid_area": null,
      "grid_auto_columns": null,
      "grid_auto_flow": null,
      "grid_auto_rows": null,
      "grid_column": null,
      "grid_gap": null,
      "grid_row": null,
      "grid_template_areas": null,
      "grid_template_columns": null,
      "grid_template_rows": null,
      "height": null,
      "justify_content": null,
      "justify_items": null,
      "left": null,
      "margin": null,
      "max_height": null,
      "max_width": null,
      "min_height": null,
      "min_width": null,
      "object_fit": null,
      "object_position": null,
      "order": null,
      "overflow": null,
      "overflow_x": null,
      "overflow_y": null,
      "padding": null,
      "right": null,
      "top": null,
      "visibility": null,
      "width": null
     }
    },
    "cb4298289777472193a6eddec9702114": {
     "model_module": "@jupyter-widgets/controls",
     "model_module_version": "1.5.0",
     "model_name": "HTMLModel",
     "state": {
      "_dom_classes": [],
      "_model_module": "@jupyter-widgets/controls",
      "_model_module_version": "1.5.0",
      "_model_name": "HTMLModel",
      "_view_count": null,
      "_view_module": "@jupyter-widgets/controls",
      "_view_module_version": "1.5.0",
      "_view_name": "HTMLView",
      "description": "",
      "description_tooltip": null,
      "layout": "IPY_MODEL_b328947dec2c40cd82e2d11cce651e84",
      "placeholder": "​",
      "style": "IPY_MODEL_b62dc6d53c314ec18d43b144a326faa1",
      "value": "Downloading: 100%"
     }
    },
    "cdc2a8f7bc144bddae9b8f80babe026a": {
     "model_module": "@jupyter-widgets/controls",
     "model_module_version": "1.5.0",
     "model_name": "HBoxModel",
     "state": {
      "_dom_classes": [],
      "_model_module": "@jupyter-widgets/controls",
      "_model_module_version": "1.5.0",
      "_model_name": "HBoxModel",
      "_view_count": null,
      "_view_module": "@jupyter-widgets/controls",
      "_view_module_version": "1.5.0",
      "_view_name": "HBoxView",
      "box_style": "",
      "children": [
       "IPY_MODEL_920c70794f944a28b1924291933db413",
       "IPY_MODEL_47695543daae4ab481a5e9d9a5f76b42",
       "IPY_MODEL_fda7482ef73c4c7cbc7ab4d921b83894"
      ],
      "layout": "IPY_MODEL_e4f0e092a01f4756b2b533eb3e161e83"
     }
    },
    "cfa533d622d046e186815c3ea6f61ae9": {
     "model_module": "@jupyter-widgets/controls",
     "model_module_version": "1.5.0",
     "model_name": "FloatProgressModel",
     "state": {
      "_dom_classes": [],
      "_model_module": "@jupyter-widgets/controls",
      "_model_module_version": "1.5.0",
      "_model_name": "FloatProgressModel",
      "_view_count": null,
      "_view_module": "@jupyter-widgets/controls",
      "_view_module_version": "1.5.0",
      "_view_name": "ProgressView",
      "bar_style": "success",
      "description": "",
      "description_tooltip": null,
      "layout": "IPY_MODEL_fe3c2db8df59401aa94b3c3d4b8d776d",
      "max": 466081,
      "min": 0,
      "orientation": "horizontal",
      "style": "IPY_MODEL_fcd4d5dfeda74a25857f2d95122cb2da",
      "value": 466081
     }
    },
    "d3ef6cbd9fd749a78ef9a35a0ed1c24f": {
     "model_module": "@jupyter-widgets/controls",
     "model_module_version": "1.5.0",
     "model_name": "ProgressStyleModel",
     "state": {
      "_model_module": "@jupyter-widgets/controls",
      "_model_module_version": "1.5.0",
      "_model_name": "ProgressStyleModel",
      "_view_count": null,
      "_view_module": "@jupyter-widgets/base",
      "_view_module_version": "1.2.0",
      "_view_name": "StyleView",
      "bar_color": null,
      "description_width": ""
     }
    },
    "d5eda15070ea4da392437e31d1e152f3": {
     "model_module": "@jupyter-widgets/controls",
     "model_module_version": "1.5.0",
     "model_name": "HTMLModel",
     "state": {
      "_dom_classes": [],
      "_model_module": "@jupyter-widgets/controls",
      "_model_module_version": "1.5.0",
      "_model_name": "HTMLModel",
      "_view_count": null,
      "_view_module": "@jupyter-widgets/controls",
      "_view_module_version": "1.5.0",
      "_view_name": "HTMLView",
      "description": "",
      "description_tooltip": null,
      "layout": "IPY_MODEL_a88b827e88ab4398b70fa4a70542e55e",
      "placeholder": "​",
      "style": "IPY_MODEL_3821dcc9e62444b58e119c3812035e58",
      "value": "Downloading: 100%"
     }
    },
    "d934e532f8b14d91bb0ca1bf8aadb81e": {
     "model_module": "@jupyter-widgets/base",
     "model_module_version": "1.2.0",
     "model_name": "LayoutModel",
     "state": {
      "_model_module": "@jupyter-widgets/base",
      "_model_module_version": "1.2.0",
      "_model_name": "LayoutModel",
      "_view_count": null,
      "_view_module": "@jupyter-widgets/base",
      "_view_module_version": "1.2.0",
      "_view_name": "LayoutView",
      "align_content": null,
      "align_items": null,
      "align_self": null,
      "border": null,
      "bottom": null,
      "display": null,
      "flex": null,
      "flex_flow": null,
      "grid_area": null,
      "grid_auto_columns": null,
      "grid_auto_flow": null,
      "grid_auto_rows": null,
      "grid_column": null,
      "grid_gap": null,
      "grid_row": null,
      "grid_template_areas": null,
      "grid_template_columns": null,
      "grid_template_rows": null,
      "height": null,
      "justify_content": null,
      "justify_items": null,
      "left": null,
      "margin": null,
      "max_height": null,
      "max_width": null,
      "min_height": null,
      "min_width": null,
      "object_fit": null,
      "object_position": null,
      "order": null,
      "overflow": null,
      "overflow_x": null,
      "overflow_y": null,
      "padding": null,
      "right": null,
      "top": null,
      "visibility": null,
      "width": null
     }
    },
    "da03d9f4ce154232ba29ded755c4d897": {
     "model_module": "@jupyter-widgets/controls",
     "model_module_version": "1.5.0",
     "model_name": "ProgressStyleModel",
     "state": {
      "_model_module": "@jupyter-widgets/controls",
      "_model_module_version": "1.5.0",
      "_model_name": "ProgressStyleModel",
      "_view_count": null,
      "_view_module": "@jupyter-widgets/base",
      "_view_module_version": "1.2.0",
      "_view_name": "StyleView",
      "bar_color": null,
      "description_width": ""
     }
    },
    "db04afe11cbf47e7af8f0dee6a55d6fa": {
     "model_module": "@jupyter-widgets/base",
     "model_module_version": "1.2.0",
     "model_name": "LayoutModel",
     "state": {
      "_model_module": "@jupyter-widgets/base",
      "_model_module_version": "1.2.0",
      "_model_name": "LayoutModel",
      "_view_count": null,
      "_view_module": "@jupyter-widgets/base",
      "_view_module_version": "1.2.0",
      "_view_name": "LayoutView",
      "align_content": null,
      "align_items": null,
      "align_self": null,
      "border": null,
      "bottom": null,
      "display": null,
      "flex": null,
      "flex_flow": null,
      "grid_area": null,
      "grid_auto_columns": null,
      "grid_auto_flow": null,
      "grid_auto_rows": null,
      "grid_column": null,
      "grid_gap": null,
      "grid_row": null,
      "grid_template_areas": null,
      "grid_template_columns": null,
      "grid_template_rows": null,
      "height": null,
      "justify_content": null,
      "justify_items": null,
      "left": null,
      "margin": null,
      "max_height": null,
      "max_width": null,
      "min_height": null,
      "min_width": null,
      "object_fit": null,
      "object_position": null,
      "order": null,
      "overflow": null,
      "overflow_x": null,
      "overflow_y": null,
      "padding": null,
      "right": null,
      "top": null,
      "visibility": null,
      "width": null
     }
    },
    "db1898ab3e41470ca22f32de6ef42869": {
     "model_module": "@jupyter-widgets/controls",
     "model_module_version": "1.5.0",
     "model_name": "FloatProgressModel",
     "state": {
      "_dom_classes": [],
      "_model_module": "@jupyter-widgets/controls",
      "_model_module_version": "1.5.0",
      "_model_name": "FloatProgressModel",
      "_view_count": null,
      "_view_module": "@jupyter-widgets/controls",
      "_view_module_version": "1.5.0",
      "_view_name": "ProgressView",
      "bar_style": "success",
      "description": "",
      "description_tooltip": null,
      "layout": "IPY_MODEL_1cd38f7aedb44300bafe436c59b9a8bd",
      "max": 122,
      "min": 0,
      "orientation": "horizontal",
      "style": "IPY_MODEL_b8aa13a20f534e6b9a0ed6a9158760ab",
      "value": 122
     }
    },
    "dc7660ab37644e50b2b6bbf15a37ea9b": {
     "model_module": "@jupyter-widgets/controls",
     "model_module_version": "1.5.0",
     "model_name": "DescriptionStyleModel",
     "state": {
      "_model_module": "@jupyter-widgets/controls",
      "_model_module_version": "1.5.0",
      "_model_name": "DescriptionStyleModel",
      "_view_count": null,
      "_view_module": "@jupyter-widgets/base",
      "_view_module_version": "1.2.0",
      "_view_name": "StyleView",
      "description_width": ""
     }
    },
    "e4f0e092a01f4756b2b533eb3e161e83": {
     "model_module": "@jupyter-widgets/base",
     "model_module_version": "1.2.0",
     "model_name": "LayoutModel",
     "state": {
      "_model_module": "@jupyter-widgets/base",
      "_model_module_version": "1.2.0",
      "_model_name": "LayoutModel",
      "_view_count": null,
      "_view_module": "@jupyter-widgets/base",
      "_view_module_version": "1.2.0",
      "_view_name": "LayoutView",
      "align_content": null,
      "align_items": null,
      "align_self": null,
      "border": null,
      "bottom": null,
      "display": null,
      "flex": null,
      "flex_flow": null,
      "grid_area": null,
      "grid_auto_columns": null,
      "grid_auto_flow": null,
      "grid_auto_rows": null,
      "grid_column": null,
      "grid_gap": null,
      "grid_row": null,
      "grid_template_areas": null,
      "grid_template_columns": null,
      "grid_template_rows": null,
      "height": null,
      "justify_content": null,
      "justify_items": null,
      "left": null,
      "margin": null,
      "max_height": null,
      "max_width": null,
      "min_height": null,
      "min_width": null,
      "object_fit": null,
      "object_position": null,
      "order": null,
      "overflow": null,
      "overflow_x": null,
      "overflow_y": null,
      "padding": null,
      "right": null,
      "top": null,
      "visibility": null,
      "width": null
     }
    },
    "e7330072b2344b999b82c9b29cd08bc5": {
     "model_module": "@jupyter-widgets/controls",
     "model_module_version": "1.5.0",
     "model_name": "ProgressStyleModel",
     "state": {
      "_model_module": "@jupyter-widgets/controls",
      "_model_module_version": "1.5.0",
      "_model_name": "ProgressStyleModel",
      "_view_count": null,
      "_view_module": "@jupyter-widgets/base",
      "_view_module_version": "1.2.0",
      "_view_name": "StyleView",
      "bar_color": null,
      "description_width": ""
     }
    },
    "e79760df3092435188b02b2e7d1bbb53": {
     "model_module": "@jupyter-widgets/controls",
     "model_module_version": "1.5.0",
     "model_name": "DescriptionStyleModel",
     "state": {
      "_model_module": "@jupyter-widgets/controls",
      "_model_module_version": "1.5.0",
      "_model_name": "DescriptionStyleModel",
      "_view_count": null,
      "_view_module": "@jupyter-widgets/base",
      "_view_module_version": "1.2.0",
      "_view_name": "StyleView",
      "description_width": ""
     }
    },
    "eadcc53ab0e2440883f25f9f85540f4e": {
     "model_module": "@jupyter-widgets/controls",
     "model_module_version": "1.5.0",
     "model_name": "HTMLModel",
     "state": {
      "_dom_classes": [],
      "_model_module": "@jupyter-widgets/controls",
      "_model_module_version": "1.5.0",
      "_model_name": "HTMLModel",
      "_view_count": null,
      "_view_module": "@jupyter-widgets/controls",
      "_view_module_version": "1.5.0",
      "_view_name": "HTMLView",
      "description": "",
      "description_tooltip": null,
      "layout": "IPY_MODEL_48f9ad4943be4830b57fda806967c329",
      "placeholder": "​",
      "style": "IPY_MODEL_724142961f14409fb00a90c212f191b3",
      "value": "Downloading: 100%"
     }
    },
    "eb617d2e25994f5fb94e9e87451cd180": {
     "model_module": "@jupyter-widgets/controls",
     "model_module_version": "1.5.0",
     "model_name": "DescriptionStyleModel",
     "state": {
      "_model_module": "@jupyter-widgets/controls",
      "_model_module_version": "1.5.0",
      "_model_name": "DescriptionStyleModel",
      "_view_count": null,
      "_view_module": "@jupyter-widgets/base",
      "_view_module_version": "1.2.0",
      "_view_name": "StyleView",
      "description_width": ""
     }
    },
    "ec13d8622c404e83928e89a054188a28": {
     "model_module": "@jupyter-widgets/base",
     "model_module_version": "1.2.0",
     "model_name": "LayoutModel",
     "state": {
      "_model_module": "@jupyter-widgets/base",
      "_model_module_version": "1.2.0",
      "_model_name": "LayoutModel",
      "_view_count": null,
      "_view_module": "@jupyter-widgets/base",
      "_view_module_version": "1.2.0",
      "_view_name": "LayoutView",
      "align_content": null,
      "align_items": null,
      "align_self": null,
      "border": null,
      "bottom": null,
      "display": null,
      "flex": null,
      "flex_flow": null,
      "grid_area": null,
      "grid_auto_columns": null,
      "grid_auto_flow": null,
      "grid_auto_rows": null,
      "grid_column": null,
      "grid_gap": null,
      "grid_row": null,
      "grid_template_areas": null,
      "grid_template_columns": null,
      "grid_template_rows": null,
      "height": null,
      "justify_content": null,
      "justify_items": null,
      "left": null,
      "margin": null,
      "max_height": null,
      "max_width": null,
      "min_height": null,
      "min_width": null,
      "object_fit": null,
      "object_position": null,
      "order": null,
      "overflow": null,
      "overflow_x": null,
      "overflow_y": null,
      "padding": null,
      "right": null,
      "top": null,
      "visibility": null,
      "width": null
     }
    },
    "ee027439786a42b8b64ad7c066c75bda": {
     "model_module": "@jupyter-widgets/controls",
     "model_module_version": "1.5.0",
     "model_name": "HTMLModel",
     "state": {
      "_dom_classes": [],
      "_model_module": "@jupyter-widgets/controls",
      "_model_module_version": "1.5.0",
      "_model_name": "HTMLModel",
      "_view_count": null,
      "_view_module": "@jupyter-widgets/controls",
      "_view_module_version": "1.5.0",
      "_view_name": "HTMLView",
      "description": "",
      "description_tooltip": null,
      "layout": "IPY_MODEL_0972e4f0ea3b4997b544715ce901c587",
      "placeholder": "​",
      "style": "IPY_MODEL_eb617d2e25994f5fb94e9e87451cd180",
      "value": " 3.69k/3.69k [00:00&lt;00:00, 67.2kB/s]"
     }
    },
    "f5780a74bb3140d2b03ef854622267e1": {
     "model_module": "@jupyter-widgets/base",
     "model_module_version": "1.2.0",
     "model_name": "LayoutModel",
     "state": {
      "_model_module": "@jupyter-widgets/base",
      "_model_module_version": "1.2.0",
      "_model_name": "LayoutModel",
      "_view_count": null,
      "_view_module": "@jupyter-widgets/base",
      "_view_module_version": "1.2.0",
      "_view_name": "LayoutView",
      "align_content": null,
      "align_items": null,
      "align_self": null,
      "border": null,
      "bottom": null,
      "display": null,
      "flex": null,
      "flex_flow": null,
      "grid_area": null,
      "grid_auto_columns": null,
      "grid_auto_flow": null,
      "grid_auto_rows": null,
      "grid_column": null,
      "grid_gap": null,
      "grid_row": null,
      "grid_template_areas": null,
      "grid_template_columns": null,
      "grid_template_rows": null,
      "height": null,
      "justify_content": null,
      "justify_items": null,
      "left": null,
      "margin": null,
      "max_height": null,
      "max_width": null,
      "min_height": null,
      "min_width": null,
      "object_fit": null,
      "object_position": null,
      "order": null,
      "overflow": null,
      "overflow_x": null,
      "overflow_y": null,
      "padding": null,
      "right": null,
      "top": null,
      "visibility": null,
      "width": null
     }
    },
    "fa65e7cba649497a8d4d70a2e3814e74": {
     "model_module": "@jupyter-widgets/controls",
     "model_module_version": "1.5.0",
     "model_name": "FloatProgressModel",
     "state": {
      "_dom_classes": [],
      "_model_module": "@jupyter-widgets/controls",
      "_model_module_version": "1.5.0",
      "_model_name": "FloatProgressModel",
      "_view_count": null,
      "_view_module": "@jupyter-widgets/controls",
      "_view_module_version": "1.5.0",
      "_view_name": "ProgressView",
      "bar_style": "success",
      "description": "",
      "description_tooltip": null,
      "layout": "IPY_MODEL_64b9749bc2d84df8ad5cd734e0c6d2b2",
      "max": 314,
      "min": 0,
      "orientation": "horizontal",
      "style": "IPY_MODEL_e7330072b2344b999b82c9b29cd08bc5",
      "value": 314
     }
    },
    "fa6b8a4bc3074f0bad85cbe67fb9ab64": {
     "model_module": "@jupyter-widgets/base",
     "model_module_version": "1.2.0",
     "model_name": "LayoutModel",
     "state": {
      "_model_module": "@jupyter-widgets/base",
      "_model_module_version": "1.2.0",
      "_model_name": "LayoutModel",
      "_view_count": null,
      "_view_module": "@jupyter-widgets/base",
      "_view_module_version": "1.2.0",
      "_view_name": "LayoutView",
      "align_content": null,
      "align_items": null,
      "align_self": null,
      "border": null,
      "bottom": null,
      "display": null,
      "flex": null,
      "flex_flow": null,
      "grid_area": null,
      "grid_auto_columns": null,
      "grid_auto_flow": null,
      "grid_auto_rows": null,
      "grid_column": null,
      "grid_gap": null,
      "grid_row": null,
      "grid_template_areas": null,
      "grid_template_columns": null,
      "grid_template_rows": null,
      "height": null,
      "justify_content": null,
      "justify_items": null,
      "left": null,
      "margin": null,
      "max_height": null,
      "max_width": null,
      "min_height": null,
      "min_width": null,
      "object_fit": null,
      "object_position": null,
      "order": null,
      "overflow": null,
      "overflow_x": null,
      "overflow_y": null,
      "padding": null,
      "right": null,
      "top": null,
      "visibility": null,
      "width": null
     }
    },
    "fb5b59d8c2d54af6bb686ba07619c867": {
     "model_module": "@jupyter-widgets/base",
     "model_module_version": "1.2.0",
     "model_name": "LayoutModel",
     "state": {
      "_model_module": "@jupyter-widgets/base",
      "_model_module_version": "1.2.0",
      "_model_name": "LayoutModel",
      "_view_count": null,
      "_view_module": "@jupyter-widgets/base",
      "_view_module_version": "1.2.0",
      "_view_name": "LayoutView",
      "align_content": null,
      "align_items": null,
      "align_self": null,
      "border": null,
      "bottom": null,
      "display": null,
      "flex": null,
      "flex_flow": null,
      "grid_area": null,
      "grid_auto_columns": null,
      "grid_auto_flow": null,
      "grid_auto_rows": null,
      "grid_column": null,
      "grid_gap": null,
      "grid_row": null,
      "grid_template_areas": null,
      "grid_template_columns": null,
      "grid_template_rows": null,
      "height": null,
      "justify_content": null,
      "justify_items": null,
      "left": null,
      "margin": null,
      "max_height": null,
      "max_width": null,
      "min_height": null,
      "min_width": null,
      "object_fit": null,
      "object_position": null,
      "order": null,
      "overflow": null,
      "overflow_x": null,
      "overflow_y": null,
      "padding": null,
      "right": null,
      "top": null,
      "visibility": null,
      "width": null
     }
    },
    "fcd4d5dfeda74a25857f2d95122cb2da": {
     "model_module": "@jupyter-widgets/controls",
     "model_module_version": "1.5.0",
     "model_name": "ProgressStyleModel",
     "state": {
      "_model_module": "@jupyter-widgets/controls",
      "_model_module_version": "1.5.0",
      "_model_name": "ProgressStyleModel",
      "_view_count": null,
      "_view_module": "@jupyter-widgets/base",
      "_view_module_version": "1.2.0",
      "_view_name": "StyleView",
      "bar_color": null,
      "description_width": ""
     }
    },
    "fda7482ef73c4c7cbc7ab4d921b83894": {
     "model_module": "@jupyter-widgets/controls",
     "model_module_version": "1.5.0",
     "model_name": "HTMLModel",
     "state": {
      "_dom_classes": [],
      "_model_module": "@jupyter-widgets/controls",
      "_model_module_version": "1.5.0",
      "_model_name": "HTMLModel",
      "_view_count": null,
      "_view_module": "@jupyter-widgets/controls",
      "_view_module_version": "1.5.0",
      "_view_name": "HTMLView",
      "description": "",
      "description_tooltip": null,
      "layout": "IPY_MODEL_8a8c8f92420441ff9a1a7c49ab167869",
      "placeholder": "​",
      "style": "IPY_MODEL_0f521bffbd414fd7a2e628987f7190a1",
      "value": " 629/629 [00:00&lt;00:00, 10.7kB/s]"
     }
    },
    "fe3c2db8df59401aa94b3c3d4b8d776d": {
     "model_module": "@jupyter-widgets/base",
     "model_module_version": "1.2.0",
     "model_name": "LayoutModel",
     "state": {
      "_model_module": "@jupyter-widgets/base",
      "_model_module_version": "1.2.0",
      "_model_name": "LayoutModel",
      "_view_count": null,
      "_view_module": "@jupyter-widgets/base",
      "_view_module_version": "1.2.0",
      "_view_name": "LayoutView",
      "align_content": null,
      "align_items": null,
      "align_self": null,
      "border": null,
      "bottom": null,
      "display": null,
      "flex": null,
      "flex_flow": null,
      "grid_area": null,
      "grid_auto_columns": null,
      "grid_auto_flow": null,
      "grid_auto_rows": null,
      "grid_column": null,
      "grid_gap": null,
      "grid_row": null,
      "grid_template_areas": null,
      "grid_template_columns": null,
      "grid_template_rows": null,
      "height": null,
      "justify_content": null,
      "justify_items": null,
      "left": null,
      "margin": null,
      "max_height": null,
      "max_width": null,
      "min_height": null,
      "min_width": null,
      "object_fit": null,
      "object_position": null,
      "order": null,
      "overflow": null,
      "overflow_x": null,
      "overflow_y": null,
      "padding": null,
      "right": null,
      "top": null,
      "visibility": null,
      "width": null
     }
    }
   }
  }
 },
 "nbformat": 4,
 "nbformat_minor": 1
}
